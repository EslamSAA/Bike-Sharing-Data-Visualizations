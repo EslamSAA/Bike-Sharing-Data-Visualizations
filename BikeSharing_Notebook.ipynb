{
 "cells": [
  {
   "cell_type": "markdown",
   "metadata": {},
   "source": [
    "# Bike Sharing Data Exploration\n",
    "### by Islam Mohamed\n",
    "\n",
    "## Preliminary Wrangling\n",
    "\n",
    "> This data set includes information about individual rides made in a bike-sharing system covering the greater San Francisco Bay area."
   ]
  },
  {
   "cell_type": "code",
   "execution_count": 1,
   "metadata": {},
   "outputs": [],
   "source": [
    "# importing all packages and set plots to be embedded inline\n",
    "import numpy as np\n",
    "import pandas as pd\n",
    "import matplotlib.pyplot as plt\n",
    "import seaborn as sb\n",
    "\n",
    "%matplotlib inline"
   ]
  },
  {
   "cell_type": "code",
   "execution_count": 2,
   "metadata": {},
   "outputs": [],
   "source": [
    "# loading csv file into pandas dataframe\n",
    "bikeshare_df = pd.read_csv('201902-fordgobike-tripdata.csv')"
   ]
  },
  {
   "cell_type": "code",
   "execution_count": 3,
   "metadata": {},
   "outputs": [
    {
     "name": "stdout",
     "output_type": "stream",
     "text": [
      "(183412, 16) \n",
      "\n",
      "duration_sec                 int64\n",
      "start_time                  object\n",
      "end_time                    object\n",
      "start_station_id           float64\n",
      "start_station_name          object\n",
      "start_station_latitude     float64\n",
      "start_station_longitude    float64\n",
      "end_station_id             float64\n",
      "end_station_name            object\n",
      "end_station_latitude       float64\n",
      "end_station_longitude      float64\n",
      "bike_id                      int64\n",
      "user_type                   object\n",
      "member_birth_year          float64\n",
      "member_gender               object\n",
      "bike_share_for_all_trip     object\n",
      "dtype: object \n",
      "\n"
     ]
    }
   ],
   "source": [
    "# high-level overview of data shape and composition\n",
    "print(bikeshare_df.shape, '\\n')\n",
    "print(bikeshare_df.dtypes, '\\n')"
   ]
  },
  {
   "cell_type": "code",
   "execution_count": 4,
   "metadata": {
    "scrolled": false
   },
   "outputs": [
    {
     "data": {
      "text/html": [
       "<div>\n",
       "<style scoped>\n",
       "    .dataframe tbody tr th:only-of-type {\n",
       "        vertical-align: middle;\n",
       "    }\n",
       "\n",
       "    .dataframe tbody tr th {\n",
       "        vertical-align: top;\n",
       "    }\n",
       "\n",
       "    .dataframe thead th {\n",
       "        text-align: right;\n",
       "    }\n",
       "</style>\n",
       "<table border=\"1\" class=\"dataframe\">\n",
       "  <thead>\n",
       "    <tr style=\"text-align: right;\">\n",
       "      <th></th>\n",
       "      <th>duration_sec</th>\n",
       "      <th>start_time</th>\n",
       "      <th>end_time</th>\n",
       "      <th>start_station_id</th>\n",
       "      <th>start_station_name</th>\n",
       "      <th>start_station_latitude</th>\n",
       "      <th>start_station_longitude</th>\n",
       "      <th>end_station_id</th>\n",
       "      <th>end_station_name</th>\n",
       "      <th>end_station_latitude</th>\n",
       "      <th>end_station_longitude</th>\n",
       "      <th>bike_id</th>\n",
       "      <th>user_type</th>\n",
       "      <th>member_birth_year</th>\n",
       "      <th>member_gender</th>\n",
       "      <th>bike_share_for_all_trip</th>\n",
       "    </tr>\n",
       "  </thead>\n",
       "  <tbody>\n",
       "    <tr>\n",
       "      <th>0</th>\n",
       "      <td>52185</td>\n",
       "      <td>2019-02-28 17:32:10.1450</td>\n",
       "      <td>2019-03-01 08:01:55.9750</td>\n",
       "      <td>21.0</td>\n",
       "      <td>Montgomery St BART Station (Market St at 2nd St)</td>\n",
       "      <td>37.789625</td>\n",
       "      <td>-122.400811</td>\n",
       "      <td>13.0</td>\n",
       "      <td>Commercial St at Montgomery St</td>\n",
       "      <td>37.794231</td>\n",
       "      <td>-122.402923</td>\n",
       "      <td>4902</td>\n",
       "      <td>Customer</td>\n",
       "      <td>1984.0</td>\n",
       "      <td>Male</td>\n",
       "      <td>No</td>\n",
       "    </tr>\n",
       "    <tr>\n",
       "      <th>1</th>\n",
       "      <td>42521</td>\n",
       "      <td>2019-02-28 18:53:21.7890</td>\n",
       "      <td>2019-03-01 06:42:03.0560</td>\n",
       "      <td>23.0</td>\n",
       "      <td>The Embarcadero at Steuart St</td>\n",
       "      <td>37.791464</td>\n",
       "      <td>-122.391034</td>\n",
       "      <td>81.0</td>\n",
       "      <td>Berry St at 4th St</td>\n",
       "      <td>37.775880</td>\n",
       "      <td>-122.393170</td>\n",
       "      <td>2535</td>\n",
       "      <td>Customer</td>\n",
       "      <td>NaN</td>\n",
       "      <td>NaN</td>\n",
       "      <td>No</td>\n",
       "    </tr>\n",
       "    <tr>\n",
       "      <th>2</th>\n",
       "      <td>61854</td>\n",
       "      <td>2019-02-28 12:13:13.2180</td>\n",
       "      <td>2019-03-01 05:24:08.1460</td>\n",
       "      <td>86.0</td>\n",
       "      <td>Market St at Dolores St</td>\n",
       "      <td>37.769305</td>\n",
       "      <td>-122.426826</td>\n",
       "      <td>3.0</td>\n",
       "      <td>Powell St BART Station (Market St at 4th St)</td>\n",
       "      <td>37.786375</td>\n",
       "      <td>-122.404904</td>\n",
       "      <td>5905</td>\n",
       "      <td>Customer</td>\n",
       "      <td>1972.0</td>\n",
       "      <td>Male</td>\n",
       "      <td>No</td>\n",
       "    </tr>\n",
       "    <tr>\n",
       "      <th>3</th>\n",
       "      <td>36490</td>\n",
       "      <td>2019-02-28 17:54:26.0100</td>\n",
       "      <td>2019-03-01 04:02:36.8420</td>\n",
       "      <td>375.0</td>\n",
       "      <td>Grove St at Masonic Ave</td>\n",
       "      <td>37.774836</td>\n",
       "      <td>-122.446546</td>\n",
       "      <td>70.0</td>\n",
       "      <td>Central Ave at Fell St</td>\n",
       "      <td>37.773311</td>\n",
       "      <td>-122.444293</td>\n",
       "      <td>6638</td>\n",
       "      <td>Subscriber</td>\n",
       "      <td>1989.0</td>\n",
       "      <td>Other</td>\n",
       "      <td>No</td>\n",
       "    </tr>\n",
       "    <tr>\n",
       "      <th>4</th>\n",
       "      <td>1585</td>\n",
       "      <td>2019-02-28 23:54:18.5490</td>\n",
       "      <td>2019-03-01 00:20:44.0740</td>\n",
       "      <td>7.0</td>\n",
       "      <td>Frank H Ogawa Plaza</td>\n",
       "      <td>37.804562</td>\n",
       "      <td>-122.271738</td>\n",
       "      <td>222.0</td>\n",
       "      <td>10th Ave at E 15th St</td>\n",
       "      <td>37.792714</td>\n",
       "      <td>-122.248780</td>\n",
       "      <td>4898</td>\n",
       "      <td>Subscriber</td>\n",
       "      <td>1974.0</td>\n",
       "      <td>Male</td>\n",
       "      <td>Yes</td>\n",
       "    </tr>\n",
       "    <tr>\n",
       "      <th>...</th>\n",
       "      <td>...</td>\n",
       "      <td>...</td>\n",
       "      <td>...</td>\n",
       "      <td>...</td>\n",
       "      <td>...</td>\n",
       "      <td>...</td>\n",
       "      <td>...</td>\n",
       "      <td>...</td>\n",
       "      <td>...</td>\n",
       "      <td>...</td>\n",
       "      <td>...</td>\n",
       "      <td>...</td>\n",
       "      <td>...</td>\n",
       "      <td>...</td>\n",
       "      <td>...</td>\n",
       "      <td>...</td>\n",
       "    </tr>\n",
       "    <tr>\n",
       "      <th>183407</th>\n",
       "      <td>480</td>\n",
       "      <td>2019-02-01 00:04:49.7240</td>\n",
       "      <td>2019-02-01 00:12:50.0340</td>\n",
       "      <td>27.0</td>\n",
       "      <td>Beale St at Harrison St</td>\n",
       "      <td>37.788059</td>\n",
       "      <td>-122.391865</td>\n",
       "      <td>324.0</td>\n",
       "      <td>Union Square (Powell St at Post St)</td>\n",
       "      <td>37.788300</td>\n",
       "      <td>-122.408531</td>\n",
       "      <td>4832</td>\n",
       "      <td>Subscriber</td>\n",
       "      <td>1996.0</td>\n",
       "      <td>Male</td>\n",
       "      <td>No</td>\n",
       "    </tr>\n",
       "    <tr>\n",
       "      <th>183408</th>\n",
       "      <td>313</td>\n",
       "      <td>2019-02-01 00:05:34.7440</td>\n",
       "      <td>2019-02-01 00:10:48.5020</td>\n",
       "      <td>21.0</td>\n",
       "      <td>Montgomery St BART Station (Market St at 2nd St)</td>\n",
       "      <td>37.789625</td>\n",
       "      <td>-122.400811</td>\n",
       "      <td>66.0</td>\n",
       "      <td>3rd St at Townsend St</td>\n",
       "      <td>37.778742</td>\n",
       "      <td>-122.392741</td>\n",
       "      <td>4960</td>\n",
       "      <td>Subscriber</td>\n",
       "      <td>1984.0</td>\n",
       "      <td>Male</td>\n",
       "      <td>No</td>\n",
       "    </tr>\n",
       "    <tr>\n",
       "      <th>183409</th>\n",
       "      <td>141</td>\n",
       "      <td>2019-02-01 00:06:05.5490</td>\n",
       "      <td>2019-02-01 00:08:27.2200</td>\n",
       "      <td>278.0</td>\n",
       "      <td>The Alameda at Bush St</td>\n",
       "      <td>37.331932</td>\n",
       "      <td>-121.904888</td>\n",
       "      <td>277.0</td>\n",
       "      <td>Morrison Ave at Julian St</td>\n",
       "      <td>37.333658</td>\n",
       "      <td>-121.908586</td>\n",
       "      <td>3824</td>\n",
       "      <td>Subscriber</td>\n",
       "      <td>1990.0</td>\n",
       "      <td>Male</td>\n",
       "      <td>Yes</td>\n",
       "    </tr>\n",
       "    <tr>\n",
       "      <th>183410</th>\n",
       "      <td>139</td>\n",
       "      <td>2019-02-01 00:05:34.3600</td>\n",
       "      <td>2019-02-01 00:07:54.2870</td>\n",
       "      <td>220.0</td>\n",
       "      <td>San Pablo Ave at MLK Jr Way</td>\n",
       "      <td>37.811351</td>\n",
       "      <td>-122.273422</td>\n",
       "      <td>216.0</td>\n",
       "      <td>San Pablo Ave at 27th St</td>\n",
       "      <td>37.817827</td>\n",
       "      <td>-122.275698</td>\n",
       "      <td>5095</td>\n",
       "      <td>Subscriber</td>\n",
       "      <td>1988.0</td>\n",
       "      <td>Male</td>\n",
       "      <td>No</td>\n",
       "    </tr>\n",
       "    <tr>\n",
       "      <th>183411</th>\n",
       "      <td>271</td>\n",
       "      <td>2019-02-01 00:00:20.6360</td>\n",
       "      <td>2019-02-01 00:04:52.0580</td>\n",
       "      <td>24.0</td>\n",
       "      <td>Spear St at Folsom St</td>\n",
       "      <td>37.789677</td>\n",
       "      <td>-122.390428</td>\n",
       "      <td>37.0</td>\n",
       "      <td>2nd St at Folsom St</td>\n",
       "      <td>37.785000</td>\n",
       "      <td>-122.395936</td>\n",
       "      <td>1057</td>\n",
       "      <td>Subscriber</td>\n",
       "      <td>1989.0</td>\n",
       "      <td>Male</td>\n",
       "      <td>No</td>\n",
       "    </tr>\n",
       "  </tbody>\n",
       "</table>\n",
       "<p>183412 rows × 16 columns</p>\n",
       "</div>"
      ],
      "text/plain": [
       "        duration_sec                start_time                  end_time  \\\n",
       "0              52185  2019-02-28 17:32:10.1450  2019-03-01 08:01:55.9750   \n",
       "1              42521  2019-02-28 18:53:21.7890  2019-03-01 06:42:03.0560   \n",
       "2              61854  2019-02-28 12:13:13.2180  2019-03-01 05:24:08.1460   \n",
       "3              36490  2019-02-28 17:54:26.0100  2019-03-01 04:02:36.8420   \n",
       "4               1585  2019-02-28 23:54:18.5490  2019-03-01 00:20:44.0740   \n",
       "...              ...                       ...                       ...   \n",
       "183407           480  2019-02-01 00:04:49.7240  2019-02-01 00:12:50.0340   \n",
       "183408           313  2019-02-01 00:05:34.7440  2019-02-01 00:10:48.5020   \n",
       "183409           141  2019-02-01 00:06:05.5490  2019-02-01 00:08:27.2200   \n",
       "183410           139  2019-02-01 00:05:34.3600  2019-02-01 00:07:54.2870   \n",
       "183411           271  2019-02-01 00:00:20.6360  2019-02-01 00:04:52.0580   \n",
       "\n",
       "        start_station_id                                start_station_name  \\\n",
       "0                   21.0  Montgomery St BART Station (Market St at 2nd St)   \n",
       "1                   23.0                     The Embarcadero at Steuart St   \n",
       "2                   86.0                           Market St at Dolores St   \n",
       "3                  375.0                           Grove St at Masonic Ave   \n",
       "4                    7.0                               Frank H Ogawa Plaza   \n",
       "...                  ...                                               ...   \n",
       "183407              27.0                           Beale St at Harrison St   \n",
       "183408              21.0  Montgomery St BART Station (Market St at 2nd St)   \n",
       "183409             278.0                            The Alameda at Bush St   \n",
       "183410             220.0                       San Pablo Ave at MLK Jr Way   \n",
       "183411              24.0                             Spear St at Folsom St   \n",
       "\n",
       "        start_station_latitude  start_station_longitude  end_station_id  \\\n",
       "0                    37.789625              -122.400811            13.0   \n",
       "1                    37.791464              -122.391034            81.0   \n",
       "2                    37.769305              -122.426826             3.0   \n",
       "3                    37.774836              -122.446546            70.0   \n",
       "4                    37.804562              -122.271738           222.0   \n",
       "...                        ...                      ...             ...   \n",
       "183407               37.788059              -122.391865           324.0   \n",
       "183408               37.789625              -122.400811            66.0   \n",
       "183409               37.331932              -121.904888           277.0   \n",
       "183410               37.811351              -122.273422           216.0   \n",
       "183411               37.789677              -122.390428            37.0   \n",
       "\n",
       "                                    end_station_name  end_station_latitude  \\\n",
       "0                     Commercial St at Montgomery St             37.794231   \n",
       "1                                 Berry St at 4th St             37.775880   \n",
       "2       Powell St BART Station (Market St at 4th St)             37.786375   \n",
       "3                             Central Ave at Fell St             37.773311   \n",
       "4                              10th Ave at E 15th St             37.792714   \n",
       "...                                              ...                   ...   \n",
       "183407           Union Square (Powell St at Post St)             37.788300   \n",
       "183408                         3rd St at Townsend St             37.778742   \n",
       "183409                     Morrison Ave at Julian St             37.333658   \n",
       "183410                      San Pablo Ave at 27th St             37.817827   \n",
       "183411                           2nd St at Folsom St             37.785000   \n",
       "\n",
       "        end_station_longitude  bike_id   user_type  member_birth_year  \\\n",
       "0                 -122.402923     4902    Customer             1984.0   \n",
       "1                 -122.393170     2535    Customer                NaN   \n",
       "2                 -122.404904     5905    Customer             1972.0   \n",
       "3                 -122.444293     6638  Subscriber             1989.0   \n",
       "4                 -122.248780     4898  Subscriber             1974.0   \n",
       "...                       ...      ...         ...                ...   \n",
       "183407            -122.408531     4832  Subscriber             1996.0   \n",
       "183408            -122.392741     4960  Subscriber             1984.0   \n",
       "183409            -121.908586     3824  Subscriber             1990.0   \n",
       "183410            -122.275698     5095  Subscriber             1988.0   \n",
       "183411            -122.395936     1057  Subscriber             1989.0   \n",
       "\n",
       "       member_gender bike_share_for_all_trip  \n",
       "0               Male                      No  \n",
       "1                NaN                      No  \n",
       "2               Male                      No  \n",
       "3              Other                      No  \n",
       "4               Male                     Yes  \n",
       "...              ...                     ...  \n",
       "183407          Male                      No  \n",
       "183408          Male                      No  \n",
       "183409          Male                     Yes  \n",
       "183410          Male                      No  \n",
       "183411          Male                      No  \n",
       "\n",
       "[183412 rows x 16 columns]"
      ]
     },
     "execution_count": 4,
     "metadata": {},
     "output_type": "execute_result"
    }
   ],
   "source": [
    "bikeshare_df"
   ]
  },
  {
   "cell_type": "markdown",
   "metadata": {},
   "source": [
    "### What is the structure of your dataset?\n",
    "\n",
    "> There are 183,412 individual rides data in the dataset with 16 features;\n",
    "> - Time; Trip Duration in seconds, Start Time, End Time\n",
    "> - Departure and Destination; Start Station, End Station (ID, Name, Coordinates)\n",
    "> - Bike; ID\n",
    "> - User; Type, Birth Year, Gender\n",
    "\n",
    "### The main feature of interest in the dataset\n",
    "\n",
    "> I'm most interested in figuring out what features are best for predicting the number of trips taken, and the trip duration\n",
    "\n",
    "### The Features in the dataset I think will help support the investigation into the feature of interest\n",
    "\n",
    "> The features of the dataset we'll be exploring are;\n",
    "> - The trip duration\n",
    "> - The trip start time (summarized by day, weekday, and hour)\n",
    "> - The user demographic data (subsription type, birth year, and gender)"
   ]
  },
  {
   "cell_type": "markdown",
   "metadata": {},
   "source": [
    "## Assessing Data"
   ]
  },
  {
   "cell_type": "code",
   "execution_count": 5,
   "metadata": {
    "scrolled": false
   },
   "outputs": [
    {
     "name": "stdout",
     "output_type": "stream",
     "text": [
      "<class 'pandas.core.frame.DataFrame'>\n",
      "RangeIndex: 183412 entries, 0 to 183411\n",
      "Data columns (total 16 columns):\n",
      " #   Column                   Non-Null Count   Dtype  \n",
      "---  ------                   --------------   -----  \n",
      " 0   duration_sec             183412 non-null  int64  \n",
      " 1   start_time               183412 non-null  object \n",
      " 2   end_time                 183412 non-null  object \n",
      " 3   start_station_id         183215 non-null  float64\n",
      " 4   start_station_name       183215 non-null  object \n",
      " 5   start_station_latitude   183412 non-null  float64\n",
      " 6   start_station_longitude  183412 non-null  float64\n",
      " 7   end_station_id           183215 non-null  float64\n",
      " 8   end_station_name         183215 non-null  object \n",
      " 9   end_station_latitude     183412 non-null  float64\n",
      " 10  end_station_longitude    183412 non-null  float64\n",
      " 11  bike_id                  183412 non-null  int64  \n",
      " 12  user_type                183412 non-null  object \n",
      " 13  member_birth_year        175147 non-null  float64\n",
      " 14  member_gender            175147 non-null  object \n",
      " 15  bike_share_for_all_trip  183412 non-null  object \n",
      "dtypes: float64(7), int64(2), object(7)\n",
      "memory usage: 22.4+ MB\n"
     ]
    }
   ],
   "source": [
    "bikeshare_df.info()"
   ]
  },
  {
   "cell_type": "code",
   "execution_count": 6,
   "metadata": {
    "scrolled": false
   },
   "outputs": [
    {
     "data": {
      "text/html": [
       "<div>\n",
       "<style scoped>\n",
       "    .dataframe tbody tr th:only-of-type {\n",
       "        vertical-align: middle;\n",
       "    }\n",
       "\n",
       "    .dataframe tbody tr th {\n",
       "        vertical-align: top;\n",
       "    }\n",
       "\n",
       "    .dataframe thead th {\n",
       "        text-align: right;\n",
       "    }\n",
       "</style>\n",
       "<table border=\"1\" class=\"dataframe\">\n",
       "  <thead>\n",
       "    <tr style=\"text-align: right;\">\n",
       "      <th></th>\n",
       "      <th>duration_sec</th>\n",
       "      <th>start_time</th>\n",
       "      <th>end_time</th>\n",
       "      <th>start_station_id</th>\n",
       "      <th>start_station_name</th>\n",
       "      <th>start_station_latitude</th>\n",
       "      <th>start_station_longitude</th>\n",
       "      <th>end_station_id</th>\n",
       "      <th>end_station_name</th>\n",
       "      <th>end_station_latitude</th>\n",
       "      <th>end_station_longitude</th>\n",
       "      <th>bike_id</th>\n",
       "      <th>user_type</th>\n",
       "      <th>member_birth_year</th>\n",
       "      <th>member_gender</th>\n",
       "      <th>bike_share_for_all_trip</th>\n",
       "    </tr>\n",
       "  </thead>\n",
       "  <tbody>\n",
       "    <tr>\n",
       "      <th>count</th>\n",
       "      <td>183412.000000</td>\n",
       "      <td>183412</td>\n",
       "      <td>183412</td>\n",
       "      <td>183215.000000</td>\n",
       "      <td>183215</td>\n",
       "      <td>183412.000000</td>\n",
       "      <td>183412.000000</td>\n",
       "      <td>183215.000000</td>\n",
       "      <td>183215</td>\n",
       "      <td>183412.000000</td>\n",
       "      <td>183412.000000</td>\n",
       "      <td>183412.000000</td>\n",
       "      <td>183412</td>\n",
       "      <td>175147.000000</td>\n",
       "      <td>175147</td>\n",
       "      <td>183412</td>\n",
       "    </tr>\n",
       "    <tr>\n",
       "      <th>unique</th>\n",
       "      <td>NaN</td>\n",
       "      <td>183401</td>\n",
       "      <td>183397</td>\n",
       "      <td>NaN</td>\n",
       "      <td>329</td>\n",
       "      <td>NaN</td>\n",
       "      <td>NaN</td>\n",
       "      <td>NaN</td>\n",
       "      <td>329</td>\n",
       "      <td>NaN</td>\n",
       "      <td>NaN</td>\n",
       "      <td>NaN</td>\n",
       "      <td>2</td>\n",
       "      <td>NaN</td>\n",
       "      <td>3</td>\n",
       "      <td>2</td>\n",
       "    </tr>\n",
       "    <tr>\n",
       "      <th>top</th>\n",
       "      <td>NaN</td>\n",
       "      <td>2019-02-15 08:43:18.4220</td>\n",
       "      <td>2019-02-06 18:22:42.3790</td>\n",
       "      <td>NaN</td>\n",
       "      <td>Market St at 10th St</td>\n",
       "      <td>NaN</td>\n",
       "      <td>NaN</td>\n",
       "      <td>NaN</td>\n",
       "      <td>San Francisco Caltrain Station 2  (Townsend St...</td>\n",
       "      <td>NaN</td>\n",
       "      <td>NaN</td>\n",
       "      <td>NaN</td>\n",
       "      <td>Subscriber</td>\n",
       "      <td>NaN</td>\n",
       "      <td>Male</td>\n",
       "      <td>No</td>\n",
       "    </tr>\n",
       "    <tr>\n",
       "      <th>freq</th>\n",
       "      <td>NaN</td>\n",
       "      <td>2</td>\n",
       "      <td>2</td>\n",
       "      <td>NaN</td>\n",
       "      <td>3904</td>\n",
       "      <td>NaN</td>\n",
       "      <td>NaN</td>\n",
       "      <td>NaN</td>\n",
       "      <td>4857</td>\n",
       "      <td>NaN</td>\n",
       "      <td>NaN</td>\n",
       "      <td>NaN</td>\n",
       "      <td>163544</td>\n",
       "      <td>NaN</td>\n",
       "      <td>130651</td>\n",
       "      <td>166053</td>\n",
       "    </tr>\n",
       "    <tr>\n",
       "      <th>mean</th>\n",
       "      <td>726.078435</td>\n",
       "      <td>NaN</td>\n",
       "      <td>NaN</td>\n",
       "      <td>138.590427</td>\n",
       "      <td>NaN</td>\n",
       "      <td>37.771223</td>\n",
       "      <td>-122.352664</td>\n",
       "      <td>136.249123</td>\n",
       "      <td>NaN</td>\n",
       "      <td>37.771427</td>\n",
       "      <td>-122.352250</td>\n",
       "      <td>4472.906375</td>\n",
       "      <td>NaN</td>\n",
       "      <td>1984.806437</td>\n",
       "      <td>NaN</td>\n",
       "      <td>NaN</td>\n",
       "    </tr>\n",
       "    <tr>\n",
       "      <th>std</th>\n",
       "      <td>1794.389780</td>\n",
       "      <td>NaN</td>\n",
       "      <td>NaN</td>\n",
       "      <td>111.778864</td>\n",
       "      <td>NaN</td>\n",
       "      <td>0.099581</td>\n",
       "      <td>0.117097</td>\n",
       "      <td>111.515131</td>\n",
       "      <td>NaN</td>\n",
       "      <td>0.099490</td>\n",
       "      <td>0.116673</td>\n",
       "      <td>1664.383394</td>\n",
       "      <td>NaN</td>\n",
       "      <td>10.116689</td>\n",
       "      <td>NaN</td>\n",
       "      <td>NaN</td>\n",
       "    </tr>\n",
       "    <tr>\n",
       "      <th>min</th>\n",
       "      <td>61.000000</td>\n",
       "      <td>NaN</td>\n",
       "      <td>NaN</td>\n",
       "      <td>3.000000</td>\n",
       "      <td>NaN</td>\n",
       "      <td>37.317298</td>\n",
       "      <td>-122.453704</td>\n",
       "      <td>3.000000</td>\n",
       "      <td>NaN</td>\n",
       "      <td>37.317298</td>\n",
       "      <td>-122.453704</td>\n",
       "      <td>11.000000</td>\n",
       "      <td>NaN</td>\n",
       "      <td>1878.000000</td>\n",
       "      <td>NaN</td>\n",
       "      <td>NaN</td>\n",
       "    </tr>\n",
       "    <tr>\n",
       "      <th>25%</th>\n",
       "      <td>325.000000</td>\n",
       "      <td>NaN</td>\n",
       "      <td>NaN</td>\n",
       "      <td>47.000000</td>\n",
       "      <td>NaN</td>\n",
       "      <td>37.770083</td>\n",
       "      <td>-122.412408</td>\n",
       "      <td>44.000000</td>\n",
       "      <td>NaN</td>\n",
       "      <td>37.770407</td>\n",
       "      <td>-122.411726</td>\n",
       "      <td>3777.000000</td>\n",
       "      <td>NaN</td>\n",
       "      <td>1980.000000</td>\n",
       "      <td>NaN</td>\n",
       "      <td>NaN</td>\n",
       "    </tr>\n",
       "    <tr>\n",
       "      <th>50%</th>\n",
       "      <td>514.000000</td>\n",
       "      <td>NaN</td>\n",
       "      <td>NaN</td>\n",
       "      <td>104.000000</td>\n",
       "      <td>NaN</td>\n",
       "      <td>37.780760</td>\n",
       "      <td>-122.398285</td>\n",
       "      <td>100.000000</td>\n",
       "      <td>NaN</td>\n",
       "      <td>37.781010</td>\n",
       "      <td>-122.398279</td>\n",
       "      <td>4958.000000</td>\n",
       "      <td>NaN</td>\n",
       "      <td>1987.000000</td>\n",
       "      <td>NaN</td>\n",
       "      <td>NaN</td>\n",
       "    </tr>\n",
       "    <tr>\n",
       "      <th>75%</th>\n",
       "      <td>796.000000</td>\n",
       "      <td>NaN</td>\n",
       "      <td>NaN</td>\n",
       "      <td>239.000000</td>\n",
       "      <td>NaN</td>\n",
       "      <td>37.797280</td>\n",
       "      <td>-122.286533</td>\n",
       "      <td>235.000000</td>\n",
       "      <td>NaN</td>\n",
       "      <td>37.797320</td>\n",
       "      <td>-122.288045</td>\n",
       "      <td>5502.000000</td>\n",
       "      <td>NaN</td>\n",
       "      <td>1992.000000</td>\n",
       "      <td>NaN</td>\n",
       "      <td>NaN</td>\n",
       "    </tr>\n",
       "    <tr>\n",
       "      <th>max</th>\n",
       "      <td>85444.000000</td>\n",
       "      <td>NaN</td>\n",
       "      <td>NaN</td>\n",
       "      <td>398.000000</td>\n",
       "      <td>NaN</td>\n",
       "      <td>37.880222</td>\n",
       "      <td>-121.874119</td>\n",
       "      <td>398.000000</td>\n",
       "      <td>NaN</td>\n",
       "      <td>37.880222</td>\n",
       "      <td>-121.874119</td>\n",
       "      <td>6645.000000</td>\n",
       "      <td>NaN</td>\n",
       "      <td>2001.000000</td>\n",
       "      <td>NaN</td>\n",
       "      <td>NaN</td>\n",
       "    </tr>\n",
       "  </tbody>\n",
       "</table>\n",
       "</div>"
      ],
      "text/plain": [
       "         duration_sec                start_time                  end_time  \\\n",
       "count   183412.000000                    183412                    183412   \n",
       "unique            NaN                    183401                    183397   \n",
       "top               NaN  2019-02-15 08:43:18.4220  2019-02-06 18:22:42.3790   \n",
       "freq              NaN                         2                         2   \n",
       "mean       726.078435                       NaN                       NaN   \n",
       "std       1794.389780                       NaN                       NaN   \n",
       "min         61.000000                       NaN                       NaN   \n",
       "25%        325.000000                       NaN                       NaN   \n",
       "50%        514.000000                       NaN                       NaN   \n",
       "75%        796.000000                       NaN                       NaN   \n",
       "max      85444.000000                       NaN                       NaN   \n",
       "\n",
       "        start_station_id    start_station_name  start_station_latitude  \\\n",
       "count      183215.000000                183215           183412.000000   \n",
       "unique               NaN                   329                     NaN   \n",
       "top                  NaN  Market St at 10th St                     NaN   \n",
       "freq                 NaN                  3904                     NaN   \n",
       "mean          138.590427                   NaN               37.771223   \n",
       "std           111.778864                   NaN                0.099581   \n",
       "min             3.000000                   NaN               37.317298   \n",
       "25%            47.000000                   NaN               37.770083   \n",
       "50%           104.000000                   NaN               37.780760   \n",
       "75%           239.000000                   NaN               37.797280   \n",
       "max           398.000000                   NaN               37.880222   \n",
       "\n",
       "        start_station_longitude  end_station_id  \\\n",
       "count             183412.000000   183215.000000   \n",
       "unique                      NaN             NaN   \n",
       "top                         NaN             NaN   \n",
       "freq                        NaN             NaN   \n",
       "mean                -122.352664      136.249123   \n",
       "std                    0.117097      111.515131   \n",
       "min                 -122.453704        3.000000   \n",
       "25%                 -122.412408       44.000000   \n",
       "50%                 -122.398285      100.000000   \n",
       "75%                 -122.286533      235.000000   \n",
       "max                 -121.874119      398.000000   \n",
       "\n",
       "                                         end_station_name  \\\n",
       "count                                              183215   \n",
       "unique                                                329   \n",
       "top     San Francisco Caltrain Station 2  (Townsend St...   \n",
       "freq                                                 4857   \n",
       "mean                                                  NaN   \n",
       "std                                                   NaN   \n",
       "min                                                   NaN   \n",
       "25%                                                   NaN   \n",
       "50%                                                   NaN   \n",
       "75%                                                   NaN   \n",
       "max                                                   NaN   \n",
       "\n",
       "        end_station_latitude  end_station_longitude        bike_id  \\\n",
       "count          183412.000000          183412.000000  183412.000000   \n",
       "unique                   NaN                    NaN            NaN   \n",
       "top                      NaN                    NaN            NaN   \n",
       "freq                     NaN                    NaN            NaN   \n",
       "mean               37.771427            -122.352250    4472.906375   \n",
       "std                 0.099490               0.116673    1664.383394   \n",
       "min                37.317298            -122.453704      11.000000   \n",
       "25%                37.770407            -122.411726    3777.000000   \n",
       "50%                37.781010            -122.398279    4958.000000   \n",
       "75%                37.797320            -122.288045    5502.000000   \n",
       "max                37.880222            -121.874119    6645.000000   \n",
       "\n",
       "         user_type  member_birth_year member_gender bike_share_for_all_trip  \n",
       "count       183412      175147.000000        175147                  183412  \n",
       "unique           2                NaN             3                       2  \n",
       "top     Subscriber                NaN          Male                      No  \n",
       "freq        163544                NaN        130651                  166053  \n",
       "mean           NaN        1984.806437           NaN                     NaN  \n",
       "std            NaN          10.116689           NaN                     NaN  \n",
       "min            NaN        1878.000000           NaN                     NaN  \n",
       "25%            NaN        1980.000000           NaN                     NaN  \n",
       "50%            NaN        1987.000000           NaN                     NaN  \n",
       "75%            NaN        1992.000000           NaN                     NaN  \n",
       "max            NaN        2001.000000           NaN                     NaN  "
      ]
     },
     "execution_count": 6,
     "metadata": {},
     "output_type": "execute_result"
    }
   ],
   "source": [
    "# descriptive statistics\n",
    "bikeshare_df.describe(include='all')"
   ]
  },
  {
   "cell_type": "markdown",
   "metadata": {},
   "source": [
    "## Cleaning Data\n",
    "### Adressing Missing Data"
   ]
  },
  {
   "cell_type": "code",
   "execution_count": 7,
   "metadata": {
    "scrolled": true
   },
   "outputs": [
    {
     "data": {
      "text/plain": [
       "duration_sec                  0\n",
       "start_time                    0\n",
       "end_time                      0\n",
       "start_station_id            197\n",
       "start_station_name          197\n",
       "start_station_latitude        0\n",
       "start_station_longitude       0\n",
       "end_station_id              197\n",
       "end_station_name            197\n",
       "end_station_latitude          0\n",
       "end_station_longitude         0\n",
       "bike_id                       0\n",
       "user_type                     0\n",
       "member_birth_year          8265\n",
       "member_gender              8265\n",
       "bike_share_for_all_trip       0\n",
       "dtype: int64"
      ]
     },
     "execution_count": 7,
     "metadata": {},
     "output_type": "execute_result"
    }
   ],
   "source": [
    "# checking for NaN values\n",
    "bikeshare_df.isnull().sum()"
   ]
  },
  {
   "cell_type": "code",
   "execution_count": 8,
   "metadata": {},
   "outputs": [
    {
     "data": {
      "text/plain": [
       "duration_sec                 0\n",
       "start_time                   0\n",
       "end_time                     0\n",
       "start_station_id           197\n",
       "start_station_name         197\n",
       "start_station_latitude       0\n",
       "start_station_longitude      0\n",
       "end_station_id             197\n",
       "end_station_name           197\n",
       "end_station_latitude         0\n",
       "end_station_longitude        0\n",
       "bike_id                      0\n",
       "user_type                    0\n",
       "member_birth_year            2\n",
       "member_gender                2\n",
       "bike_share_for_all_trip      0\n",
       "dtype: int64"
      ]
     },
     "execution_count": 8,
     "metadata": {},
     "output_type": "execute_result"
    }
   ],
   "source": [
    "bikeshare_df[bikeshare_df.start_station_id.isnull()].isnull().sum()"
   ]
  },
  {
   "cell_type": "markdown",
   "metadata": {},
   "source": [
    "> All rows with null start station data are the same as the rows with null end station data"
   ]
  },
  {
   "cell_type": "code",
   "execution_count": 9,
   "metadata": {},
   "outputs": [
    {
     "data": {
      "text/plain": [
       "duration_sec                  0\n",
       "start_time                    0\n",
       "end_time                      0\n",
       "start_station_id              2\n",
       "start_station_name            2\n",
       "start_station_latitude        0\n",
       "start_station_longitude       0\n",
       "end_station_id                2\n",
       "end_station_name              2\n",
       "end_station_latitude          0\n",
       "end_station_longitude         0\n",
       "bike_id                       0\n",
       "user_type                     0\n",
       "member_birth_year          8265\n",
       "member_gender              8265\n",
       "bike_share_for_all_trip       0\n",
       "dtype: int64"
      ]
     },
     "execution_count": 9,
     "metadata": {},
     "output_type": "execute_result"
    }
   ],
   "source": [
    "bikeshare_df[bikeshare_df.member_gender.isnull()].isnull().sum()"
   ]
  },
  {
   "cell_type": "markdown",
   "metadata": {},
   "source": [
    "> All rows with null member gender data are the same as rows with null birthyear"
   ]
  },
  {
   "cell_type": "code",
   "execution_count": 10,
   "metadata": {},
   "outputs": [
    {
     "data": {
      "text/plain": [
       "-121.94    57\n",
       "-121.96    46\n",
       "-121.93    46\n",
       "-121.95    37\n",
       "-121.92    10\n",
       "-121.98     1\n",
       "Name: start_station_longitude, dtype: int64"
      ]
     },
     "execution_count": 10,
     "metadata": {},
     "output_type": "execute_result"
    }
   ],
   "source": [
    "# checking for available station_id within the dataset based on the coordinates\n",
    "\n",
    "bikeshare_df[bikeshare_df.start_station_id.isnull()].start_station_longitude.value_counts()"
   ]
  },
  {
   "cell_type": "code",
   "execution_count": 11,
   "metadata": {},
   "outputs": [
    {
     "data": {
      "text/plain": [
       "(10, 16)"
      ]
     },
     "execution_count": 11,
     "metadata": {},
     "output_type": "execute_result"
    }
   ],
   "source": [
    "bikeshare_df[bikeshare_df['start_station_longitude'] == -121.92].shape"
   ]
  },
  {
   "cell_type": "markdown",
   "metadata": {},
   "source": [
    "> All null values don't have corresponding data and are better dropped for cleaning purposes"
   ]
  },
  {
   "cell_type": "code",
   "execution_count": 12,
   "metadata": {},
   "outputs": [],
   "source": [
    "# dropping rows with NaN values and saving changes into a new dataframe\n",
    "bikeshare_clean = bikeshare_df.dropna(subset=['start_station_id', 'member_gender'], axis=0)\n",
    "bikeshare_clean.reset_index(drop=True, inplace=True)"
   ]
  },
  {
   "cell_type": "code",
   "execution_count": 13,
   "metadata": {},
   "outputs": [
    {
     "data": {
      "text/plain": [
       "False"
      ]
     },
     "execution_count": 13,
     "metadata": {},
     "output_type": "execute_result"
    }
   ],
   "source": [
    "# confirming changes\n",
    "bikeshare_clean.isnull().sum().any()"
   ]
  },
  {
   "cell_type": "code",
   "execution_count": 14,
   "metadata": {},
   "outputs": [
    {
     "name": "stdout",
     "output_type": "stream",
     "text": [
      "<class 'pandas.core.frame.DataFrame'>\n",
      "RangeIndex: 174952 entries, 0 to 174951\n",
      "Data columns (total 16 columns):\n",
      " #   Column                   Non-Null Count   Dtype  \n",
      "---  ------                   --------------   -----  \n",
      " 0   duration_sec             174952 non-null  int64  \n",
      " 1   start_time               174952 non-null  object \n",
      " 2   end_time                 174952 non-null  object \n",
      " 3   start_station_id         174952 non-null  float64\n",
      " 4   start_station_name       174952 non-null  object \n",
      " 5   start_station_latitude   174952 non-null  float64\n",
      " 6   start_station_longitude  174952 non-null  float64\n",
      " 7   end_station_id           174952 non-null  float64\n",
      " 8   end_station_name         174952 non-null  object \n",
      " 9   end_station_latitude     174952 non-null  float64\n",
      " 10  end_station_longitude    174952 non-null  float64\n",
      " 11  bike_id                  174952 non-null  int64  \n",
      " 12  user_type                174952 non-null  object \n",
      " 13  member_birth_year        174952 non-null  float64\n",
      " 14  member_gender            174952 non-null  object \n",
      " 15  bike_share_for_all_trip  174952 non-null  object \n",
      "dtypes: float64(7), int64(2), object(7)\n",
      "memory usage: 21.4+ MB\n"
     ]
    }
   ],
   "source": [
    "bikeshare_clean.info()"
   ]
  },
  {
   "cell_type": "markdown",
   "metadata": {},
   "source": [
    "### Dropping Extraneous Columns\n",
    "- Drop unwanted columns in the dataset outside the feature of interest"
   ]
  },
  {
   "cell_type": "code",
   "execution_count": 15,
   "metadata": {},
   "outputs": [
    {
     "data": {
      "text/plain": [
       "['duration_sec',\n",
       " 'start_time',\n",
       " 'end_time',\n",
       " 'start_station_id',\n",
       " 'start_station_name',\n",
       " 'start_station_latitude',\n",
       " 'start_station_longitude',\n",
       " 'end_station_id',\n",
       " 'end_station_name',\n",
       " 'end_station_latitude',\n",
       " 'end_station_longitude',\n",
       " 'bike_id',\n",
       " 'user_type',\n",
       " 'member_birth_year',\n",
       " 'member_gender',\n",
       " 'bike_share_for_all_trip']"
      ]
     },
     "execution_count": 15,
     "metadata": {},
     "output_type": "execute_result"
    }
   ],
   "source": [
    "# list all column names\n",
    "list(bikeshare_clean)"
   ]
  },
  {
   "cell_type": "code",
   "execution_count": 16,
   "metadata": {},
   "outputs": [
    {
     "name": "stderr",
     "output_type": "stream",
     "text": [
      "C:\\Users\\islam\\anaconda3\\lib\\site-packages\\pandas\\core\\frame.py:4163: SettingWithCopyWarning: \n",
      "A value is trying to be set on a copy of a slice from a DataFrame\n",
      "\n",
      "See the caveats in the documentation: https://pandas.pydata.org/pandas-docs/stable/user_guide/indexing.html#returning-a-view-versus-a-copy\n",
      "  return super().drop(\n"
     ]
    }
   ],
   "source": [
    "# dropping unwanted columns across the column (1) axis, in place\n",
    "bikeshare_clean.drop(labels=['start_station_name', 'start_station_latitude', 'start_station_longitude', 'end_station_name',\n",
    "                             'end_station_latitude', 'end_station_longitude', 'bike_share_for_all_trip'], axis=1, inplace=True)"
   ]
  },
  {
   "cell_type": "code",
   "execution_count": 17,
   "metadata": {},
   "outputs": [
    {
     "data": {
      "text/html": [
       "<div>\n",
       "<style scoped>\n",
       "    .dataframe tbody tr th:only-of-type {\n",
       "        vertical-align: middle;\n",
       "    }\n",
       "\n",
       "    .dataframe tbody tr th {\n",
       "        vertical-align: top;\n",
       "    }\n",
       "\n",
       "    .dataframe thead th {\n",
       "        text-align: right;\n",
       "    }\n",
       "</style>\n",
       "<table border=\"1\" class=\"dataframe\">\n",
       "  <thead>\n",
       "    <tr style=\"text-align: right;\">\n",
       "      <th></th>\n",
       "      <th>duration_sec</th>\n",
       "      <th>start_time</th>\n",
       "      <th>end_time</th>\n",
       "      <th>start_station_id</th>\n",
       "      <th>end_station_id</th>\n",
       "      <th>bike_id</th>\n",
       "      <th>user_type</th>\n",
       "      <th>member_birth_year</th>\n",
       "      <th>member_gender</th>\n",
       "    </tr>\n",
       "  </thead>\n",
       "  <tbody>\n",
       "    <tr>\n",
       "      <th>115513</th>\n",
       "      <td>607</td>\n",
       "      <td>2019-02-11 16:16:36.1230</td>\n",
       "      <td>2019-02-11 16:26:43.5470</td>\n",
       "      <td>104.0</td>\n",
       "      <td>27.0</td>\n",
       "      <td>590</td>\n",
       "      <td>Subscriber</td>\n",
       "      <td>1992.0</td>\n",
       "      <td>Male</td>\n",
       "    </tr>\n",
       "    <tr>\n",
       "      <th>92420</th>\n",
       "      <td>583</td>\n",
       "      <td>2019-02-15 09:26:57.4080</td>\n",
       "      <td>2019-02-15 09:36:41.2470</td>\n",
       "      <td>134.0</td>\n",
       "      <td>59.0</td>\n",
       "      <td>1666</td>\n",
       "      <td>Subscriber</td>\n",
       "      <td>1982.0</td>\n",
       "      <td>Male</td>\n",
       "    </tr>\n",
       "    <tr>\n",
       "      <th>144236</th>\n",
       "      <td>449</td>\n",
       "      <td>2019-02-06 17:29:55.1660</td>\n",
       "      <td>2019-02-06 17:37:25.0980</td>\n",
       "      <td>30.0</td>\n",
       "      <td>15.0</td>\n",
       "      <td>5307</td>\n",
       "      <td>Subscriber</td>\n",
       "      <td>1957.0</td>\n",
       "      <td>Male</td>\n",
       "    </tr>\n",
       "    <tr>\n",
       "      <th>62716</th>\n",
       "      <td>889</td>\n",
       "      <td>2019-02-20 09:20:07.6870</td>\n",
       "      <td>2019-02-20 09:34:57.1710</td>\n",
       "      <td>25.0</td>\n",
       "      <td>41.0</td>\n",
       "      <td>4837</td>\n",
       "      <td>Subscriber</td>\n",
       "      <td>1979.0</td>\n",
       "      <td>Female</td>\n",
       "    </tr>\n",
       "    <tr>\n",
       "      <th>126308</th>\n",
       "      <td>1683</td>\n",
       "      <td>2019-02-09 05:49:44.9010</td>\n",
       "      <td>2019-02-09 06:17:47.9840</td>\n",
       "      <td>20.0</td>\n",
       "      <td>368.0</td>\n",
       "      <td>3651</td>\n",
       "      <td>Subscriber</td>\n",
       "      <td>1959.0</td>\n",
       "      <td>Male</td>\n",
       "    </tr>\n",
       "  </tbody>\n",
       "</table>\n",
       "</div>"
      ],
      "text/plain": [
       "        duration_sec                start_time                  end_time  \\\n",
       "115513           607  2019-02-11 16:16:36.1230  2019-02-11 16:26:43.5470   \n",
       "92420            583  2019-02-15 09:26:57.4080  2019-02-15 09:36:41.2470   \n",
       "144236           449  2019-02-06 17:29:55.1660  2019-02-06 17:37:25.0980   \n",
       "62716            889  2019-02-20 09:20:07.6870  2019-02-20 09:34:57.1710   \n",
       "126308          1683  2019-02-09 05:49:44.9010  2019-02-09 06:17:47.9840   \n",
       "\n",
       "        start_station_id  end_station_id  bike_id   user_type  \\\n",
       "115513             104.0            27.0      590  Subscriber   \n",
       "92420              134.0            59.0     1666  Subscriber   \n",
       "144236              30.0            15.0     5307  Subscriber   \n",
       "62716               25.0            41.0     4837  Subscriber   \n",
       "126308              20.0           368.0     3651  Subscriber   \n",
       "\n",
       "        member_birth_year member_gender  \n",
       "115513             1992.0          Male  \n",
       "92420              1982.0          Male  \n",
       "144236             1957.0          Male  \n",
       "62716              1979.0        Female  \n",
       "126308             1959.0          Male  "
      ]
     },
     "execution_count": 17,
     "metadata": {},
     "output_type": "execute_result"
    }
   ],
   "source": [
    "# confirm changes\n",
    "bikeshare_clean.sample(5)"
   ]
  },
  {
   "cell_type": "markdown",
   "metadata": {},
   "source": [
    "### Modifying Datatypes\n",
    "- Set datatype of the variables properly using `astype`"
   ]
  },
  {
   "cell_type": "code",
   "execution_count": 18,
   "metadata": {},
   "outputs": [
    {
     "data": {
      "text/plain": [
       "duration_sec           int64\n",
       "start_time            object\n",
       "end_time              object\n",
       "start_station_id     float64\n",
       "end_station_id       float64\n",
       "bike_id                int64\n",
       "user_type             object\n",
       "member_birth_year    float64\n",
       "member_gender         object\n",
       "dtype: object"
      ]
     },
     "execution_count": 18,
     "metadata": {},
     "output_type": "execute_result"
    }
   ],
   "source": [
    "# checking datatypes\n",
    "bikeshare_clean.dtypes"
   ]
  },
  {
   "cell_type": "code",
   "execution_count": 19,
   "metadata": {},
   "outputs": [
    {
     "name": "stderr",
     "output_type": "stream",
     "text": [
      "C:\\Users\\islam\\anaconda3\\lib\\site-packages\\pandas\\core\\indexing.py:1745: SettingWithCopyWarning: \n",
      "A value is trying to be set on a copy of a slice from a DataFrame.\n",
      "Try using .loc[row_indexer,col_indexer] = value instead\n",
      "\n",
      "See the caveats in the documentation: https://pandas.pydata.org/pandas-docs/stable/user_guide/indexing.html#returning-a-view-versus-a-copy\n",
      "  isetter(ilocs[0], value)\n"
     ]
    }
   ],
   "source": [
    "# setting start_time and end_time to datetime datatype for easier operations\n",
    "bikeshare_clean.loc[:, 'start_time'] =  pd.to_datetime(bikeshare_clean.loc[:, 'start_time'])\n",
    "bikeshare_clean.loc[:, 'end_time'] =  pd.to_datetime(bikeshare_clean.loc[:, 'end_time'])"
   ]
  },
  {
   "cell_type": "code",
   "execution_count": 20,
   "metadata": {
    "scrolled": true
   },
   "outputs": [
    {
     "name": "stdout",
     "output_type": "stream",
     "text": [
      "<class 'pandas.core.frame.DataFrame'>\n",
      "RangeIndex: 174952 entries, 0 to 174951\n",
      "Data columns (total 9 columns):\n",
      " #   Column             Non-Null Count   Dtype         \n",
      "---  ------             --------------   -----         \n",
      " 0   duration_sec       174952 non-null  int64         \n",
      " 1   start_time         174952 non-null  datetime64[ns]\n",
      " 2   end_time           174952 non-null  datetime64[ns]\n",
      " 3   start_station_id   174952 non-null  float64       \n",
      " 4   end_station_id     174952 non-null  float64       \n",
      " 5   bike_id            174952 non-null  int64         \n",
      " 6   user_type          174952 non-null  object        \n",
      " 7   member_birth_year  174952 non-null  float64       \n",
      " 8   member_gender      174952 non-null  object        \n",
      "dtypes: datetime64[ns](2), float64(3), int64(2), object(2)\n",
      "memory usage: 12.0+ MB\n"
     ]
    }
   ],
   "source": [
    "# confirming changes\n",
    "bikeshare_clean.info()"
   ]
  },
  {
   "cell_type": "code",
   "execution_count": 21,
   "metadata": {},
   "outputs": [],
   "source": [
    "# convert dtypes\n",
    "bikeshare_clean = bikeshare_clean.astype({'start_station_id':'int64', 'end_station_id':'int64', 'member_birth_year':'int64'})"
   ]
  },
  {
   "cell_type": "code",
   "execution_count": 22,
   "metadata": {},
   "outputs": [
    {
     "name": "stdout",
     "output_type": "stream",
     "text": [
      "<class 'pandas.core.frame.DataFrame'>\n",
      "RangeIndex: 174952 entries, 0 to 174951\n",
      "Data columns (total 9 columns):\n",
      " #   Column             Non-Null Count   Dtype         \n",
      "---  ------             --------------   -----         \n",
      " 0   duration_sec       174952 non-null  int64         \n",
      " 1   start_time         174952 non-null  datetime64[ns]\n",
      " 2   end_time           174952 non-null  datetime64[ns]\n",
      " 3   start_station_id   174952 non-null  int64         \n",
      " 4   end_station_id     174952 non-null  int64         \n",
      " 5   bike_id            174952 non-null  int64         \n",
      " 6   user_type          174952 non-null  object        \n",
      " 7   member_birth_year  174952 non-null  int64         \n",
      " 8   member_gender      174952 non-null  object        \n",
      "dtypes: datetime64[ns](2), int64(5), object(2)\n",
      "memory usage: 12.0+ MB\n"
     ]
    }
   ],
   "source": [
    "# confirming changes\n",
    "bikeshare_clean.info()"
   ]
  },
  {
   "cell_type": "markdown",
   "metadata": {},
   "source": [
    "### Setting categorical variables\n",
    "- for `user_type` and `member_gender`"
   ]
  },
  {
   "cell_type": "code",
   "execution_count": 23,
   "metadata": {},
   "outputs": [
    {
     "data": {
      "text/plain": [
       "Subscriber    158386\n",
       "Customer       16566\n",
       "Name: user_type, dtype: int64"
      ]
     },
     "execution_count": 23,
     "metadata": {},
     "output_type": "execute_result"
    }
   ],
   "source": [
    "user_cat = bikeshare_clean['user_type'].value_counts()\n",
    "user_cat"
   ]
  },
  {
   "cell_type": "code",
   "execution_count": 24,
   "metadata": {},
   "outputs": [
    {
     "data": {
      "text/plain": [
       "Male      130500\n",
       "Female     40805\n",
       "Other       3647\n",
       "Name: member_gender, dtype: int64"
      ]
     },
     "execution_count": 24,
     "metadata": {},
     "output_type": "execute_result"
    }
   ],
   "source": [
    "gender_cat = bikeshare_clean['member_gender'].value_counts()\n",
    "gender_cat"
   ]
  },
  {
   "cell_type": "code",
   "execution_count": 25,
   "metadata": {},
   "outputs": [],
   "source": [
    "# converting user_type, member_gender into categorical types\n",
    "bikeshare_clean['user_type'] = bikeshare_clean['user_type'].astype(pd.api.types.CategoricalDtype(categories=user_cat.index))"
   ]
  },
  {
   "cell_type": "code",
   "execution_count": 26,
   "metadata": {},
   "outputs": [
    {
     "data": {
      "text/plain": [
       "Subscriber    158386\n",
       "Customer       16566\n",
       "Name: user_type, dtype: int64"
      ]
     },
     "execution_count": 26,
     "metadata": {},
     "output_type": "execute_result"
    }
   ],
   "source": [
    "bikeshare_clean.user_type.value_counts()"
   ]
  },
  {
   "cell_type": "code",
   "execution_count": 27,
   "metadata": {},
   "outputs": [],
   "source": [
    "bikeshare_clean['member_gender'] = bikeshare_clean['member_gender'].astype(pd.api.types.CategoricalDtype(categories=gender_cat.index))"
   ]
  },
  {
   "cell_type": "code",
   "execution_count": 28,
   "metadata": {},
   "outputs": [
    {
     "data": {
      "text/plain": [
       "Male      130500\n",
       "Female     40805\n",
       "Other       3647\n",
       "Name: member_gender, dtype: int64"
      ]
     },
     "execution_count": 28,
     "metadata": {},
     "output_type": "execute_result"
    }
   ],
   "source": [
    "bikeshare_clean['member_gender'].value_counts()"
   ]
  },
  {
   "cell_type": "code",
   "execution_count": 29,
   "metadata": {
    "scrolled": false
   },
   "outputs": [
    {
     "name": "stdout",
     "output_type": "stream",
     "text": [
      "<class 'pandas.core.frame.DataFrame'>\n",
      "RangeIndex: 174952 entries, 0 to 174951\n",
      "Data columns (total 9 columns):\n",
      " #   Column             Non-Null Count   Dtype         \n",
      "---  ------             --------------   -----         \n",
      " 0   duration_sec       174952 non-null  int64         \n",
      " 1   start_time         174952 non-null  datetime64[ns]\n",
      " 2   end_time           174952 non-null  datetime64[ns]\n",
      " 3   start_station_id   174952 non-null  int64         \n",
      " 4   end_station_id     174952 non-null  int64         \n",
      " 5   bike_id            174952 non-null  int64         \n",
      " 6   user_type          174952 non-null  category      \n",
      " 7   member_birth_year  174952 non-null  int64         \n",
      " 8   member_gender      174952 non-null  category      \n",
      "dtypes: category(2), datetime64[ns](2), int64(5)\n",
      "memory usage: 9.7 MB\n"
     ]
    }
   ],
   "source": [
    "# confirming changes\n",
    "bikeshare_clean.info()"
   ]
  },
  {
   "cell_type": "markdown",
   "metadata": {},
   "source": [
    "## Feature Engineering\n",
    "### Adding columns for Trip Weekday, and Hour"
   ]
  },
  {
   "cell_type": "code",
   "execution_count": 30,
   "metadata": {},
   "outputs": [],
   "source": [
    "# adding columns using datetime methods\n",
    "bikeshare_clean['weekday']= bikeshare_clean['start_time'].dt.day_name()\n",
    "bikeshare_clean['hour']= bikeshare_clean['start_time'].dt.hour"
   ]
  },
  {
   "cell_type": "code",
   "execution_count": 31,
   "metadata": {},
   "outputs": [
    {
     "name": "stdout",
     "output_type": "stream",
     "text": [
      "<class 'pandas.core.frame.DataFrame'>\n",
      "RangeIndex: 174952 entries, 0 to 174951\n",
      "Data columns (total 11 columns):\n",
      " #   Column             Non-Null Count   Dtype         \n",
      "---  ------             --------------   -----         \n",
      " 0   duration_sec       174952 non-null  int64         \n",
      " 1   start_time         174952 non-null  datetime64[ns]\n",
      " 2   end_time           174952 non-null  datetime64[ns]\n",
      " 3   start_station_id   174952 non-null  int64         \n",
      " 4   end_station_id     174952 non-null  int64         \n",
      " 5   bike_id            174952 non-null  int64         \n",
      " 6   user_type          174952 non-null  category      \n",
      " 7   member_birth_year  174952 non-null  int64         \n",
      " 8   member_gender      174952 non-null  category      \n",
      " 9   weekday            174952 non-null  object        \n",
      " 10  hour               174952 non-null  int64         \n",
      "dtypes: category(2), datetime64[ns](2), int64(6), object(1)\n",
      "memory usage: 12.3+ MB\n"
     ]
    }
   ],
   "source": [
    "bikeshare_clean.info()"
   ]
  },
  {
   "cell_type": "code",
   "execution_count": 32,
   "metadata": {},
   "outputs": [
    {
     "data": {
      "text/plain": [
       "Thursday     33712\n",
       "Tuesday      30584\n",
       "Wednesday    28426\n",
       "Friday       27663\n",
       "Monday       25641\n",
       "Sunday       14512\n",
       "Saturday     14414\n",
       "Name: weekday, dtype: int64"
      ]
     },
     "execution_count": 32,
     "metadata": {},
     "output_type": "execute_result"
    }
   ],
   "source": [
    "bikeshare_clean.weekday.value_counts()"
   ]
  },
  {
   "cell_type": "code",
   "execution_count": 33,
   "metadata": {},
   "outputs": [],
   "source": [
    "# converting weekday into ordered categorical type\n",
    "weekday_cat = ['Monday', 'Tuesday', 'Wednesday', 'Thursday', 'Friday', 'Saturday', 'Sunday']\n",
    "bikeshare_clean['weekday'] = bikeshare_clean['weekday'].astype(pd.api.types.CategoricalDtype(ordered=True,\n",
    "                                                                                             categories=weekday_cat))"
   ]
  },
  {
   "cell_type": "code",
   "execution_count": 34,
   "metadata": {},
   "outputs": [
    {
     "data": {
      "text/plain": [
       "Thursday     33712\n",
       "Tuesday      30584\n",
       "Wednesday    28426\n",
       "Friday       27663\n",
       "Monday       25641\n",
       "Sunday       14512\n",
       "Saturday     14414\n",
       "Name: weekday, dtype: int64"
      ]
     },
     "execution_count": 34,
     "metadata": {},
     "output_type": "execute_result"
    }
   ],
   "source": [
    "bikeshare_clean.weekday.value_counts()"
   ]
  },
  {
   "cell_type": "code",
   "execution_count": 35,
   "metadata": {},
   "outputs": [
    {
     "name": "stdout",
     "output_type": "stream",
     "text": [
      "<class 'pandas.core.frame.DataFrame'>\n",
      "RangeIndex: 174952 entries, 0 to 174951\n",
      "Data columns (total 11 columns):\n",
      " #   Column             Non-Null Count   Dtype         \n",
      "---  ------             --------------   -----         \n",
      " 0   duration_sec       174952 non-null  int64         \n",
      " 1   start_time         174952 non-null  datetime64[ns]\n",
      " 2   end_time           174952 non-null  datetime64[ns]\n",
      " 3   start_station_id   174952 non-null  int64         \n",
      " 4   end_station_id     174952 non-null  int64         \n",
      " 5   bike_id            174952 non-null  int64         \n",
      " 6   user_type          174952 non-null  category      \n",
      " 7   member_birth_year  174952 non-null  int64         \n",
      " 8   member_gender      174952 non-null  category      \n",
      " 9   weekday            174952 non-null  category      \n",
      " 10  hour               174952 non-null  int64         \n",
      "dtypes: category(3), datetime64[ns](2), int64(6)\n",
      "memory usage: 11.2 MB\n"
     ]
    }
   ],
   "source": [
    "bikeshare_clean.info()"
   ]
  },
  {
   "cell_type": "code",
   "execution_count": 36,
   "metadata": {
    "scrolled": true
   },
   "outputs": [
    {
     "data": {
      "text/html": [
       "<div>\n",
       "<style scoped>\n",
       "    .dataframe tbody tr th:only-of-type {\n",
       "        vertical-align: middle;\n",
       "    }\n",
       "\n",
       "    .dataframe tbody tr th {\n",
       "        vertical-align: top;\n",
       "    }\n",
       "\n",
       "    .dataframe thead th {\n",
       "        text-align: right;\n",
       "    }\n",
       "</style>\n",
       "<table border=\"1\" class=\"dataframe\">\n",
       "  <thead>\n",
       "    <tr style=\"text-align: right;\">\n",
       "      <th></th>\n",
       "      <th>duration_sec</th>\n",
       "      <th>start_time</th>\n",
       "      <th>end_time</th>\n",
       "      <th>start_station_id</th>\n",
       "      <th>end_station_id</th>\n",
       "      <th>bike_id</th>\n",
       "      <th>user_type</th>\n",
       "      <th>member_birth_year</th>\n",
       "      <th>member_gender</th>\n",
       "      <th>weekday</th>\n",
       "      <th>hour</th>\n",
       "    </tr>\n",
       "  </thead>\n",
       "  <tbody>\n",
       "    <tr>\n",
       "      <th>0</th>\n",
       "      <td>52185</td>\n",
       "      <td>2019-02-28 17:32:10.145</td>\n",
       "      <td>2019-03-01 08:01:55.975</td>\n",
       "      <td>21</td>\n",
       "      <td>13</td>\n",
       "      <td>4902</td>\n",
       "      <td>Customer</td>\n",
       "      <td>1984</td>\n",
       "      <td>Male</td>\n",
       "      <td>Thursday</td>\n",
       "      <td>17</td>\n",
       "    </tr>\n",
       "    <tr>\n",
       "      <th>1</th>\n",
       "      <td>61854</td>\n",
       "      <td>2019-02-28 12:13:13.218</td>\n",
       "      <td>2019-03-01 05:24:08.146</td>\n",
       "      <td>86</td>\n",
       "      <td>3</td>\n",
       "      <td>5905</td>\n",
       "      <td>Customer</td>\n",
       "      <td>1972</td>\n",
       "      <td>Male</td>\n",
       "      <td>Thursday</td>\n",
       "      <td>12</td>\n",
       "    </tr>\n",
       "    <tr>\n",
       "      <th>2</th>\n",
       "      <td>36490</td>\n",
       "      <td>2019-02-28 17:54:26.010</td>\n",
       "      <td>2019-03-01 04:02:36.842</td>\n",
       "      <td>375</td>\n",
       "      <td>70</td>\n",
       "      <td>6638</td>\n",
       "      <td>Subscriber</td>\n",
       "      <td>1989</td>\n",
       "      <td>Other</td>\n",
       "      <td>Thursday</td>\n",
       "      <td>17</td>\n",
       "    </tr>\n",
       "    <tr>\n",
       "      <th>3</th>\n",
       "      <td>1585</td>\n",
       "      <td>2019-02-28 23:54:18.549</td>\n",
       "      <td>2019-03-01 00:20:44.074</td>\n",
       "      <td>7</td>\n",
       "      <td>222</td>\n",
       "      <td>4898</td>\n",
       "      <td>Subscriber</td>\n",
       "      <td>1974</td>\n",
       "      <td>Male</td>\n",
       "      <td>Thursday</td>\n",
       "      <td>23</td>\n",
       "    </tr>\n",
       "    <tr>\n",
       "      <th>4</th>\n",
       "      <td>1793</td>\n",
       "      <td>2019-02-28 23:49:58.632</td>\n",
       "      <td>2019-03-01 00:19:51.760</td>\n",
       "      <td>93</td>\n",
       "      <td>323</td>\n",
       "      <td>5200</td>\n",
       "      <td>Subscriber</td>\n",
       "      <td>1959</td>\n",
       "      <td>Male</td>\n",
       "      <td>Thursday</td>\n",
       "      <td>23</td>\n",
       "    </tr>\n",
       "    <tr>\n",
       "      <th>...</th>\n",
       "      <td>...</td>\n",
       "      <td>...</td>\n",
       "      <td>...</td>\n",
       "      <td>...</td>\n",
       "      <td>...</td>\n",
       "      <td>...</td>\n",
       "      <td>...</td>\n",
       "      <td>...</td>\n",
       "      <td>...</td>\n",
       "      <td>...</td>\n",
       "      <td>...</td>\n",
       "    </tr>\n",
       "    <tr>\n",
       "      <th>174947</th>\n",
       "      <td>480</td>\n",
       "      <td>2019-02-01 00:04:49.724</td>\n",
       "      <td>2019-02-01 00:12:50.034</td>\n",
       "      <td>27</td>\n",
       "      <td>324</td>\n",
       "      <td>4832</td>\n",
       "      <td>Subscriber</td>\n",
       "      <td>1996</td>\n",
       "      <td>Male</td>\n",
       "      <td>Friday</td>\n",
       "      <td>0</td>\n",
       "    </tr>\n",
       "    <tr>\n",
       "      <th>174948</th>\n",
       "      <td>313</td>\n",
       "      <td>2019-02-01 00:05:34.744</td>\n",
       "      <td>2019-02-01 00:10:48.502</td>\n",
       "      <td>21</td>\n",
       "      <td>66</td>\n",
       "      <td>4960</td>\n",
       "      <td>Subscriber</td>\n",
       "      <td>1984</td>\n",
       "      <td>Male</td>\n",
       "      <td>Friday</td>\n",
       "      <td>0</td>\n",
       "    </tr>\n",
       "    <tr>\n",
       "      <th>174949</th>\n",
       "      <td>141</td>\n",
       "      <td>2019-02-01 00:06:05.549</td>\n",
       "      <td>2019-02-01 00:08:27.220</td>\n",
       "      <td>278</td>\n",
       "      <td>277</td>\n",
       "      <td>3824</td>\n",
       "      <td>Subscriber</td>\n",
       "      <td>1990</td>\n",
       "      <td>Male</td>\n",
       "      <td>Friday</td>\n",
       "      <td>0</td>\n",
       "    </tr>\n",
       "    <tr>\n",
       "      <th>174950</th>\n",
       "      <td>139</td>\n",
       "      <td>2019-02-01 00:05:34.360</td>\n",
       "      <td>2019-02-01 00:07:54.287</td>\n",
       "      <td>220</td>\n",
       "      <td>216</td>\n",
       "      <td>5095</td>\n",
       "      <td>Subscriber</td>\n",
       "      <td>1988</td>\n",
       "      <td>Male</td>\n",
       "      <td>Friday</td>\n",
       "      <td>0</td>\n",
       "    </tr>\n",
       "    <tr>\n",
       "      <th>174951</th>\n",
       "      <td>271</td>\n",
       "      <td>2019-02-01 00:00:20.636</td>\n",
       "      <td>2019-02-01 00:04:52.058</td>\n",
       "      <td>24</td>\n",
       "      <td>37</td>\n",
       "      <td>1057</td>\n",
       "      <td>Subscriber</td>\n",
       "      <td>1989</td>\n",
       "      <td>Male</td>\n",
       "      <td>Friday</td>\n",
       "      <td>0</td>\n",
       "    </tr>\n",
       "  </tbody>\n",
       "</table>\n",
       "<p>174952 rows × 11 columns</p>\n",
       "</div>"
      ],
      "text/plain": [
       "        duration_sec              start_time                end_time  \\\n",
       "0              52185 2019-02-28 17:32:10.145 2019-03-01 08:01:55.975   \n",
       "1              61854 2019-02-28 12:13:13.218 2019-03-01 05:24:08.146   \n",
       "2              36490 2019-02-28 17:54:26.010 2019-03-01 04:02:36.842   \n",
       "3               1585 2019-02-28 23:54:18.549 2019-03-01 00:20:44.074   \n",
       "4               1793 2019-02-28 23:49:58.632 2019-03-01 00:19:51.760   \n",
       "...              ...                     ...                     ...   \n",
       "174947           480 2019-02-01 00:04:49.724 2019-02-01 00:12:50.034   \n",
       "174948           313 2019-02-01 00:05:34.744 2019-02-01 00:10:48.502   \n",
       "174949           141 2019-02-01 00:06:05.549 2019-02-01 00:08:27.220   \n",
       "174950           139 2019-02-01 00:05:34.360 2019-02-01 00:07:54.287   \n",
       "174951           271 2019-02-01 00:00:20.636 2019-02-01 00:04:52.058   \n",
       "\n",
       "        start_station_id  end_station_id  bike_id   user_type  \\\n",
       "0                     21              13     4902    Customer   \n",
       "1                     86               3     5905    Customer   \n",
       "2                    375              70     6638  Subscriber   \n",
       "3                      7             222     4898  Subscriber   \n",
       "4                     93             323     5200  Subscriber   \n",
       "...                  ...             ...      ...         ...   \n",
       "174947                27             324     4832  Subscriber   \n",
       "174948                21              66     4960  Subscriber   \n",
       "174949               278             277     3824  Subscriber   \n",
       "174950               220             216     5095  Subscriber   \n",
       "174951                24              37     1057  Subscriber   \n",
       "\n",
       "        member_birth_year member_gender   weekday  hour  \n",
       "0                    1984          Male  Thursday    17  \n",
       "1                    1972          Male  Thursday    12  \n",
       "2                    1989         Other  Thursday    17  \n",
       "3                    1974          Male  Thursday    23  \n",
       "4                    1959          Male  Thursday    23  \n",
       "...                   ...           ...       ...   ...  \n",
       "174947               1996          Male    Friday     0  \n",
       "174948               1984          Male    Friday     0  \n",
       "174949               1990          Male    Friday     0  \n",
       "174950               1988          Male    Friday     0  \n",
       "174951               1989          Male    Friday     0  \n",
       "\n",
       "[174952 rows x 11 columns]"
      ]
     },
     "execution_count": 36,
     "metadata": {},
     "output_type": "execute_result"
    }
   ],
   "source": [
    "# confirming changes\n",
    "bikeshare_clean"
   ]
  },
  {
   "cell_type": "code",
   "execution_count": 37,
   "metadata": {
    "scrolled": false
   },
   "outputs": [
    {
     "data": {
      "text/html": [
       "<div>\n",
       "<style scoped>\n",
       "    .dataframe tbody tr th:only-of-type {\n",
       "        vertical-align: middle;\n",
       "    }\n",
       "\n",
       "    .dataframe tbody tr th {\n",
       "        vertical-align: top;\n",
       "    }\n",
       "\n",
       "    .dataframe thead th {\n",
       "        text-align: right;\n",
       "    }\n",
       "</style>\n",
       "<table border=\"1\" class=\"dataframe\">\n",
       "  <thead>\n",
       "    <tr style=\"text-align: right;\">\n",
       "      <th></th>\n",
       "      <th>duration_sec</th>\n",
       "      <th>start_time</th>\n",
       "      <th>end_time</th>\n",
       "      <th>start_station_id</th>\n",
       "      <th>end_station_id</th>\n",
       "      <th>bike_id</th>\n",
       "      <th>member_birth_year</th>\n",
       "      <th>hour</th>\n",
       "    </tr>\n",
       "  </thead>\n",
       "  <tbody>\n",
       "    <tr>\n",
       "      <th>count</th>\n",
       "      <td>174952.000000</td>\n",
       "      <td>174952</td>\n",
       "      <td>174952</td>\n",
       "      <td>174952.000000</td>\n",
       "      <td>174952.000000</td>\n",
       "      <td>174952.000000</td>\n",
       "      <td>174952.000000</td>\n",
       "      <td>174952.000000</td>\n",
       "    </tr>\n",
       "    <tr>\n",
       "      <th>mean</th>\n",
       "      <td>704.002744</td>\n",
       "      <td>2019-02-15 21:27:05.282477568</td>\n",
       "      <td>2019-02-15 21:38:49.784196864</td>\n",
       "      <td>139.002126</td>\n",
       "      <td>136.604486</td>\n",
       "      <td>4482.587555</td>\n",
       "      <td>1984.803135</td>\n",
       "      <td>13.456165</td>\n",
       "    </tr>\n",
       "    <tr>\n",
       "      <th>min</th>\n",
       "      <td>61.000000</td>\n",
       "      <td>2019-02-01 00:00:20.636000</td>\n",
       "      <td>2019-02-01 00:04:52.058000</td>\n",
       "      <td>3.000000</td>\n",
       "      <td>3.000000</td>\n",
       "      <td>11.000000</td>\n",
       "      <td>1878.000000</td>\n",
       "      <td>0.000000</td>\n",
       "    </tr>\n",
       "    <tr>\n",
       "      <th>25%</th>\n",
       "      <td>323.000000</td>\n",
       "      <td>2019-02-08 08:32:16.954250240</td>\n",
       "      <td>2019-02-08 08:42:33.415499776</td>\n",
       "      <td>47.000000</td>\n",
       "      <td>44.000000</td>\n",
       "      <td>3799.000000</td>\n",
       "      <td>1980.000000</td>\n",
       "      <td>9.000000</td>\n",
       "    </tr>\n",
       "    <tr>\n",
       "      <th>50%</th>\n",
       "      <td>510.000000</td>\n",
       "      <td>2019-02-15 22:20:21.685499904</td>\n",
       "      <td>2019-02-15 22:33:41.234500096</td>\n",
       "      <td>104.000000</td>\n",
       "      <td>101.000000</td>\n",
       "      <td>4960.000000</td>\n",
       "      <td>1987.000000</td>\n",
       "      <td>14.000000</td>\n",
       "    </tr>\n",
       "    <tr>\n",
       "      <th>75%</th>\n",
       "      <td>789.000000</td>\n",
       "      <td>2019-02-22 11:22:05.289500160</td>\n",
       "      <td>2019-02-22 11:37:06.322249984</td>\n",
       "      <td>239.000000</td>\n",
       "      <td>238.000000</td>\n",
       "      <td>5505.000000</td>\n",
       "      <td>1992.000000</td>\n",
       "      <td>17.000000</td>\n",
       "    </tr>\n",
       "    <tr>\n",
       "      <th>max</th>\n",
       "      <td>84548.000000</td>\n",
       "      <td>2019-02-28 23:59:18.548000</td>\n",
       "      <td>2019-03-01 08:01:55.975000</td>\n",
       "      <td>398.000000</td>\n",
       "      <td>398.000000</td>\n",
       "      <td>6645.000000</td>\n",
       "      <td>2001.000000</td>\n",
       "      <td>23.000000</td>\n",
       "    </tr>\n",
       "    <tr>\n",
       "      <th>std</th>\n",
       "      <td>1642.204905</td>\n",
       "      <td>NaN</td>\n",
       "      <td>NaN</td>\n",
       "      <td>111.648819</td>\n",
       "      <td>111.335635</td>\n",
       "      <td>1659.195937</td>\n",
       "      <td>10.118731</td>\n",
       "      <td>4.734282</td>\n",
       "    </tr>\n",
       "  </tbody>\n",
       "</table>\n",
       "</div>"
      ],
      "text/plain": [
       "        duration_sec                     start_time  \\\n",
       "count  174952.000000                         174952   \n",
       "mean      704.002744  2019-02-15 21:27:05.282477568   \n",
       "min        61.000000     2019-02-01 00:00:20.636000   \n",
       "25%       323.000000  2019-02-08 08:32:16.954250240   \n",
       "50%       510.000000  2019-02-15 22:20:21.685499904   \n",
       "75%       789.000000  2019-02-22 11:22:05.289500160   \n",
       "max     84548.000000     2019-02-28 23:59:18.548000   \n",
       "std      1642.204905                            NaN   \n",
       "\n",
       "                            end_time  start_station_id  end_station_id  \\\n",
       "count                         174952     174952.000000   174952.000000   \n",
       "mean   2019-02-15 21:38:49.784196864        139.002126      136.604486   \n",
       "min       2019-02-01 00:04:52.058000          3.000000        3.000000   \n",
       "25%    2019-02-08 08:42:33.415499776         47.000000       44.000000   \n",
       "50%    2019-02-15 22:33:41.234500096        104.000000      101.000000   \n",
       "75%    2019-02-22 11:37:06.322249984        239.000000      238.000000   \n",
       "max       2019-03-01 08:01:55.975000        398.000000      398.000000   \n",
       "std                              NaN        111.648819      111.335635   \n",
       "\n",
       "             bike_id  member_birth_year           hour  \n",
       "count  174952.000000      174952.000000  174952.000000  \n",
       "mean     4482.587555        1984.803135      13.456165  \n",
       "min        11.000000        1878.000000       0.000000  \n",
       "25%      3799.000000        1980.000000       9.000000  \n",
       "50%      4960.000000        1987.000000      14.000000  \n",
       "75%      5505.000000        1992.000000      17.000000  \n",
       "max      6645.000000        2001.000000      23.000000  \n",
       "std      1659.195937          10.118731       4.734282  "
      ]
     },
     "execution_count": 37,
     "metadata": {},
     "output_type": "execute_result"
    }
   ],
   "source": [
    "# confirming changes\n",
    "bikeshare_clean.describe(datetime_is_numeric=True)"
   ]
  },
  {
   "cell_type": "markdown",
   "metadata": {},
   "source": [
    "## Univariate Exploration"
   ]
  },
  {
   "cell_type": "markdown",
   "metadata": {},
   "source": [
    "### Trip Duration\n",
    "- Starting by looking at the distribution of the trip duration"
   ]
  },
  {
   "cell_type": "code",
   "execution_count": 38,
   "metadata": {},
   "outputs": [
    {
     "data": {
      "image/png": "[encoded data removed]",
      "text/plain": [
       "<Figure size 576x360 with 1 Axes>"
      ]
     },
     "metadata": {
      "needs_background": "light"
     },
     "output_type": "display_data"
    }
   ],
   "source": [
    "# starting with a standard-scaled plot\n",
    "bins = np.arange(0, bikeshare_clean['duration_sec'].max()+60, 60)\n",
    "plt.figure(figsize=[8, 5])\n",
    "plt.hist(data = bikeshare_clean, x = 'duration_sec', bins=bins)\n",
    "plt.xlabel('Trip Duration, Sec.', labelpad=10, color='blue')\n",
    "plt.ylabel('Count', labelpad=10, color='Blue')\n",
    "plt.title('Trip Duration Overall Histogram', fontdict={'color': 'red'}, pad=10);\n",
    "plt.show();"
   ]
  },
  {
   "cell_type": "markdown",
   "metadata": {},
   "source": [
    "The initial plot of the duration shows that most of the data is set to the far left of the axis, suggesting some strong outliers on the right. As seen from the descriptive summary and the plot. There are some outliers way above the distribution, so will limit the view and reduce bin size."
   ]
  },
  {
   "cell_type": "code",
   "execution_count": 39,
   "metadata": {},
   "outputs": [
    {
     "data": {
      "image/png": "[encoded data removed]",
      "text/plain": [
       "<Figure size 576x360 with 1 Axes>"
      ]
     },
     "metadata": {
      "needs_background": "light"
     },
     "output_type": "display_data"
    }
   ],
   "source": [
    "bins = np.arange(0, bikeshare_clean['duration_sec'].max()+60, 60)\n",
    "\n",
    "plt.figure(figsize=[8, 5])\n",
    "plt.hist(data = bikeshare_clean, x = 'duration_sec', bins=bins)\n",
    "plt.xlim(0, 7000)\n",
    "plt.xlabel('Trip Duration, Sec.', labelpad=10, color='blue')\n",
    "plt.ylabel('Count', labelpad=10, color='Blue')\n",
    "plt.title('Trip Duration Focused Histogram', fontdict={'color': 'red'}, pad=10);\n",
    "plt.show();"
   ]
  },
  {
   "cell_type": "code",
   "execution_count": 40,
   "metadata": {},
   "outputs": [
    {
     "data": {
      "image/png": "[encoded data removed]",
      "text/plain": [
       "<Figure size 576x360 with 1 Axes>"
      ]
     },
     "metadata": {
      "needs_background": "light"
     },
     "output_type": "display_data"
    }
   ],
   "source": [
    "# Univarite plot of the trip duration distribution\n",
    "log_binsize = 0.025\n",
    "bins = 10 ** np.arange(.05, np.log10(bikeshare_clean['duration_sec'].max())+log_binsize, log_binsize)\n",
    "\n",
    "plt.figure(figsize=[8, 5])\n",
    "plt.hist(data = bikeshare_clean, x = 'duration_sec', bins = bins)\n",
    "plt.xscale('log')\n",
    "plt.xticks([60, 500, 1e3, 2e3, 5e3, 10e4], [60, 500, '1k', '2k', '5k', '10k'])\n",
    "plt.xlim(60, 7000);\n",
    "plt.xlabel('Trip Duration, Sec.', labelpad=10, color='blue')\n",
    "plt.ylabel('Count', labelpad=10, color='Blue')\n",
    "plt.title('Trip Duration Log-Scale Histogram', fontdict={'color': 'red'}, pad=10);\n",
    "plt.show();"
   ]
  },
  {
   "cell_type": "markdown",
   "metadata": {},
   "source": [
    "Duration has a long-tailed distribution, with a lot of rides on the low duration end, and few on the high end. When plotted on \n",
    "a log-scale, the duration distribution is normal, with most trips having duration around 500 seconds"
   ]
  },
  {
   "cell_type": "code",
   "execution_count": 41,
   "metadata": {},
   "outputs": [
    {
     "data": {
      "text/plain": [
       "557"
      ]
     },
     "execution_count": 41,
     "metadata": {},
     "output_type": "execute_result"
    }
   ],
   "source": [
    "# selecting high outliers, using criteria eyeballed from the plots\n",
    "\n",
    "high_outliers = (bikeshare_clean['duration_sec'] > 7000)\n",
    "high_outliers.sum()"
   ]
  },
  {
   "cell_type": "code",
   "execution_count": 42,
   "metadata": {},
   "outputs": [
    {
     "data": {
      "text/html": [
       "<div>\n",
       "<style scoped>\n",
       "    .dataframe tbody tr th:only-of-type {\n",
       "        vertical-align: middle;\n",
       "    }\n",
       "\n",
       "    .dataframe tbody tr th {\n",
       "        vertical-align: top;\n",
       "    }\n",
       "\n",
       "    .dataframe thead th {\n",
       "        text-align: right;\n",
       "    }\n",
       "</style>\n",
       "<table border=\"1\" class=\"dataframe\">\n",
       "  <thead>\n",
       "    <tr style=\"text-align: right;\">\n",
       "      <th></th>\n",
       "      <th>duration_sec</th>\n",
       "      <th>start_time</th>\n",
       "      <th>end_time</th>\n",
       "      <th>start_station_id</th>\n",
       "      <th>end_station_id</th>\n",
       "      <th>bike_id</th>\n",
       "      <th>user_type</th>\n",
       "      <th>member_birth_year</th>\n",
       "      <th>member_gender</th>\n",
       "      <th>weekday</th>\n",
       "      <th>hour</th>\n",
       "    </tr>\n",
       "  </thead>\n",
       "  <tbody>\n",
       "    <tr>\n",
       "      <th>0</th>\n",
       "      <td>52185</td>\n",
       "      <td>2019-02-28 17:32:10.145</td>\n",
       "      <td>2019-03-01 08:01:55.975</td>\n",
       "      <td>21</td>\n",
       "      <td>13</td>\n",
       "      <td>4902</td>\n",
       "      <td>Customer</td>\n",
       "      <td>1984</td>\n",
       "      <td>Male</td>\n",
       "      <td>Thursday</td>\n",
       "      <td>17</td>\n",
       "    </tr>\n",
       "    <tr>\n",
       "      <th>1</th>\n",
       "      <td>61854</td>\n",
       "      <td>2019-02-28 12:13:13.218</td>\n",
       "      <td>2019-03-01 05:24:08.146</td>\n",
       "      <td>86</td>\n",
       "      <td>3</td>\n",
       "      <td>5905</td>\n",
       "      <td>Customer</td>\n",
       "      <td>1972</td>\n",
       "      <td>Male</td>\n",
       "      <td>Thursday</td>\n",
       "      <td>12</td>\n",
       "    </tr>\n",
       "    <tr>\n",
       "      <th>2</th>\n",
       "      <td>36490</td>\n",
       "      <td>2019-02-28 17:54:26.010</td>\n",
       "      <td>2019-03-01 04:02:36.842</td>\n",
       "      <td>375</td>\n",
       "      <td>70</td>\n",
       "      <td>6638</td>\n",
       "      <td>Subscriber</td>\n",
       "      <td>1989</td>\n",
       "      <td>Other</td>\n",
       "      <td>Thursday</td>\n",
       "      <td>17</td>\n",
       "    </tr>\n",
       "    <tr>\n",
       "      <th>192</th>\n",
       "      <td>15123</td>\n",
       "      <td>2019-02-28 18:23:19.035</td>\n",
       "      <td>2019-02-28 22:35:22.294</td>\n",
       "      <td>28</td>\n",
       "      <td>368</td>\n",
       "      <td>5380</td>\n",
       "      <td>Subscriber</td>\n",
       "      <td>1980</td>\n",
       "      <td>Male</td>\n",
       "      <td>Thursday</td>\n",
       "      <td>18</td>\n",
       "    </tr>\n",
       "    <tr>\n",
       "      <th>287</th>\n",
       "      <td>13061</td>\n",
       "      <td>2019-02-28 18:28:18.728</td>\n",
       "      <td>2019-02-28 22:05:59.954</td>\n",
       "      <td>19</td>\n",
       "      <td>19</td>\n",
       "      <td>5830</td>\n",
       "      <td>Subscriber</td>\n",
       "      <td>1987</td>\n",
       "      <td>Male</td>\n",
       "      <td>Thursday</td>\n",
       "      <td>18</td>\n",
       "    </tr>\n",
       "    <tr>\n",
       "      <th>...</th>\n",
       "      <td>...</td>\n",
       "      <td>...</td>\n",
       "      <td>...</td>\n",
       "      <td>...</td>\n",
       "      <td>...</td>\n",
       "      <td>...</td>\n",
       "      <td>...</td>\n",
       "      <td>...</td>\n",
       "      <td>...</td>\n",
       "      <td>...</td>\n",
       "      <td>...</td>\n",
       "    </tr>\n",
       "    <tr>\n",
       "      <th>170209</th>\n",
       "      <td>31203</td>\n",
       "      <td>2019-02-01 08:40:28.487</td>\n",
       "      <td>2019-02-01 17:20:31.553</td>\n",
       "      <td>78</td>\n",
       "      <td>11</td>\n",
       "      <td>5110</td>\n",
       "      <td>Subscriber</td>\n",
       "      <td>1989</td>\n",
       "      <td>Male</td>\n",
       "      <td>Friday</td>\n",
       "      <td>8</td>\n",
       "    </tr>\n",
       "    <tr>\n",
       "      <th>170428</th>\n",
       "      <td>14321</td>\n",
       "      <td>2019-02-01 12:50:10.691</td>\n",
       "      <td>2019-02-01 16:48:51.797</td>\n",
       "      <td>263</td>\n",
       "      <td>254</td>\n",
       "      <td>4642</td>\n",
       "      <td>Customer</td>\n",
       "      <td>1977</td>\n",
       "      <td>Other</td>\n",
       "      <td>Friday</td>\n",
       "      <td>12</td>\n",
       "    </tr>\n",
       "    <tr>\n",
       "      <th>170435</th>\n",
       "      <td>12894</td>\n",
       "      <td>2019-02-01 13:13:12.725</td>\n",
       "      <td>2019-02-01 16:48:07.003</td>\n",
       "      <td>5</td>\n",
       "      <td>5</td>\n",
       "      <td>5105</td>\n",
       "      <td>Subscriber</td>\n",
       "      <td>1996</td>\n",
       "      <td>Other</td>\n",
       "      <td>Friday</td>\n",
       "      <td>13</td>\n",
       "    </tr>\n",
       "    <tr>\n",
       "      <th>171454</th>\n",
       "      <td>10568</td>\n",
       "      <td>2019-02-01 10:08:37.189</td>\n",
       "      <td>2019-02-01 13:04:45.198</td>\n",
       "      <td>364</td>\n",
       "      <td>20</td>\n",
       "      <td>5561</td>\n",
       "      <td>Subscriber</td>\n",
       "      <td>1989</td>\n",
       "      <td>Male</td>\n",
       "      <td>Friday</td>\n",
       "      <td>10</td>\n",
       "    </tr>\n",
       "    <tr>\n",
       "      <th>174001</th>\n",
       "      <td>13609</td>\n",
       "      <td>2019-02-01 04:38:43.601</td>\n",
       "      <td>2019-02-01 08:25:33.493</td>\n",
       "      <td>106</td>\n",
       "      <td>79</td>\n",
       "      <td>4944</td>\n",
       "      <td>Subscriber</td>\n",
       "      <td>1982</td>\n",
       "      <td>Male</td>\n",
       "      <td>Friday</td>\n",
       "      <td>4</td>\n",
       "    </tr>\n",
       "  </tbody>\n",
       "</table>\n",
       "<p>557 rows × 11 columns</p>\n",
       "</div>"
      ],
      "text/plain": [
       "        duration_sec              start_time                end_time  \\\n",
       "0              52185 2019-02-28 17:32:10.145 2019-03-01 08:01:55.975   \n",
       "1              61854 2019-02-28 12:13:13.218 2019-03-01 05:24:08.146   \n",
       "2              36490 2019-02-28 17:54:26.010 2019-03-01 04:02:36.842   \n",
       "192            15123 2019-02-28 18:23:19.035 2019-02-28 22:35:22.294   \n",
       "287            13061 2019-02-28 18:28:18.728 2019-02-28 22:05:59.954   \n",
       "...              ...                     ...                     ...   \n",
       "170209         31203 2019-02-01 08:40:28.487 2019-02-01 17:20:31.553   \n",
       "170428         14321 2019-02-01 12:50:10.691 2019-02-01 16:48:51.797   \n",
       "170435         12894 2019-02-01 13:13:12.725 2019-02-01 16:48:07.003   \n",
       "171454         10568 2019-02-01 10:08:37.189 2019-02-01 13:04:45.198   \n",
       "174001         13609 2019-02-01 04:38:43.601 2019-02-01 08:25:33.493   \n",
       "\n",
       "        start_station_id  end_station_id  bike_id   user_type  \\\n",
       "0                     21              13     4902    Customer   \n",
       "1                     86               3     5905    Customer   \n",
       "2                    375              70     6638  Subscriber   \n",
       "192                   28             368     5380  Subscriber   \n",
       "287                   19              19     5830  Subscriber   \n",
       "...                  ...             ...      ...         ...   \n",
       "170209                78              11     5110  Subscriber   \n",
       "170428               263             254     4642    Customer   \n",
       "170435                 5               5     5105  Subscriber   \n",
       "171454               364              20     5561  Subscriber   \n",
       "174001               106              79     4944  Subscriber   \n",
       "\n",
       "        member_birth_year member_gender   weekday  hour  \n",
       "0                    1984          Male  Thursday    17  \n",
       "1                    1972          Male  Thursday    12  \n",
       "2                    1989         Other  Thursday    17  \n",
       "192                  1980          Male  Thursday    18  \n",
       "287                  1987          Male  Thursday    18  \n",
       "...                   ...           ...       ...   ...  \n",
       "170209               1989          Male    Friday     8  \n",
       "170428               1977         Other    Friday    12  \n",
       "170435               1996         Other    Friday    13  \n",
       "171454               1989          Male    Friday    10  \n",
       "174001               1982          Male    Friday     4  \n",
       "\n",
       "[557 rows x 11 columns]"
      ]
     },
     "execution_count": 42,
     "metadata": {},
     "output_type": "execute_result"
    }
   ],
   "source": [
    "bikeshare_clean.loc[high_outliers,:]"
   ]
  },
  {
   "cell_type": "code",
   "execution_count": 43,
   "metadata": {},
   "outputs": [
    {
     "data": {
      "text/plain": [
       "0"
      ]
     },
     "execution_count": 43,
     "metadata": {},
     "output_type": "execute_result"
    }
   ],
   "source": [
    "# checking for errors in duration calculation\n",
    "x = (bikeshare_clean.loc[high_outliers,:].end_time - bikeshare_clean.loc[high_outliers,:].start_time).dt.seconds\n",
    "y = bikeshare_clean.loc[high_outliers,:].duration_sec\n",
    "(x != y).sum()"
   ]
  },
  {
   "cell_type": "markdown",
   "metadata": {},
   "source": [
    "> No errors in trip duration calculation. These duration data are accurate and will be considered part of our valid data"
   ]
  },
  {
   "cell_type": "markdown",
   "metadata": {},
   "source": [
    "### Trip Start Time\n",
    "- We'll now explore the trip start time distribution over the month, weekdays, and day hours"
   ]
  },
  {
   "cell_type": "code",
   "execution_count": 44,
   "metadata": {},
   "outputs": [
    {
     "data": {
      "image/png": "[encoded data removed]",
      "text/plain": [
       "<Figure size 1152x360 with 1 Axes>"
      ]
     },
     "metadata": {
      "needs_background": "light"
     },
     "output_type": "display_data"
    }
   ],
   "source": [
    "# Plotting by date\n",
    "plt.figure(figsize=[16, 5])\n",
    "plt.hist(data = bikeshare_clean, x = 'start_time', bins=28)\n",
    "plt.xlabel('Trip Start Date', labelpad=10, color='blue')\n",
    "plt.ylabel('Count', labelpad=10, color='Blue')\n",
    "plt.title('Trip Start Date Histogram', fontdict={'color': 'red'}, pad=10);\n",
    "plt.show();"
   ]
  },
  {
   "cell_type": "code",
   "execution_count": 45,
   "metadata": {},
   "outputs": [
    {
     "data": {
      "image/png": "[encoded data removed]",
      "text/plain": [
       "<Figure size 576x360 with 1 Axes>"
      ]
     },
     "metadata": {
      "needs_background": "light"
     },
     "output_type": "display_data"
    }
   ],
   "source": [
    "# plotting by weekday\n",
    "plt.figure(figsize=[8, 5])\n",
    "sb.countplot(data = bikeshare_clean, x = 'weekday', color = sb.color_palette()[0])\n",
    "plt.xlabel('Trip Start Weekday', labelpad=10, color='blue')\n",
    "plt.ylabel('Count', labelpad=10, color='Blue')\n",
    "plt.title('Trip Start Day Histogram', fontdict={'color': 'red'}, pad=10);\n",
    "plt.show();"
   ]
  },
  {
   "cell_type": "markdown",
   "metadata": {},
   "source": [
    "We can see that the lowest trip count was observed on weekends and higher trip counts were happening during weekdays with Thursday being the highest. Weekend engagement is almost 50% of that of an average weekday."
   ]
  },
  {
   "cell_type": "code",
   "execution_count": 46,
   "metadata": {},
   "outputs": [
    {
     "data": {
      "image/png": "[encoded data removed]",
      "text/plain": [
       "<Figure size 576x360 with 1 Axes>"
      ]
     },
     "metadata": {
      "needs_background": "light"
     },
     "output_type": "display_data"
    }
   ],
   "source": [
    "# plotting by hour\n",
    "plt.figure(figsize=[8, 5])\n",
    "sb.countplot(data = bikeshare_clean, x = 'hour', color = sb.color_palette()[0])\n",
    "plt.xlabel('Trip Start hour', labelpad=10, color='blue')\n",
    "plt.ylabel('Count', labelpad=10, color='Blue')\n",
    "plt.title('Trip Start hour Histogram', fontdict={'color': 'red'}, pad=10);\n",
    "plt.show();"
   ]
  },
  {
   "cell_type": "markdown",
   "metadata": {},
   "source": [
    "We can that the distribution of trips along the day is bimodal with one peak at 8:00 AM and another at 05:00 PM, with the lowest number of trips were taken after midnight"
   ]
  },
  {
   "cell_type": "markdown",
   "metadata": {},
   "source": [
    "### User Data"
   ]
  },
  {
   "cell_type": "code",
   "execution_count": 47,
   "metadata": {},
   "outputs": [
    {
     "data": {
      "image/png": "[encoded data removed]",
      "text/plain": [
       "<Figure size 720x360 with 2 Axes>"
      ]
     },
     "metadata": {
      "needs_background": "light"
     },
     "output_type": "display_data"
    }
   ],
   "source": [
    "# plotting for User Types\n",
    "plt.figure(figsize=[10, 5]);\n",
    "\n",
    "plt.subplot(1,2,1)\n",
    "sb.countplot(data = bikeshare_clean, x='user_type', color=sb.color_palette()[0]);\n",
    "plt.xlabel('')\n",
    "plt.ylabel('Count', labelpad=10, color='Blue')\n",
    "\n",
    "plt.subplot(1,2,2)\n",
    "x = bikeshare_clean.user_type.value_counts().values\n",
    "i = bikeshare_clean.user_type.value_counts().index\n",
    "plt.pie(x, labels=i, autopct='%1.1f%%', startangle=90, counterclock=False);\n",
    "plt.title('Proportions of User Types', color='red');"
   ]
  },
  {
   "cell_type": "markdown",
   "metadata": {},
   "source": [
    "> 90% of the trips are taken by subscribers"
   ]
  },
  {
   "cell_type": "code",
   "execution_count": 48,
   "metadata": {},
   "outputs": [
    {
     "data": {
      "image/png": "[encoded data removed]",
      "text/plain": [
       "<Figure size 720x360 with 2 Axes>"
      ]
     },
     "metadata": {
      "needs_background": "light"
     },
     "output_type": "display_data"
    }
   ],
   "source": [
    "# plotting for User Gender\n",
    "plt.figure(figsize=[10, 5]);\n",
    "\n",
    "plt.subplot(1,2,1)\n",
    "sb.countplot(data = bikeshare_clean, x='member_gender', color=sb.color_palette()[0]);\n",
    "plt.xlabel('')\n",
    "plt.ylabel('Count', labelpad=10, color='Blue')\n",
    "\n",
    "plt.subplot(1,2,2)\n",
    "x = bikeshare_clean.member_gender.value_counts().values\n",
    "i = bikeshare_clean.member_gender.value_counts().index\n",
    "plt.pie(x, labels=i, autopct='%1.1f%%', pctdistance=1.15, startangle=90, counterclock=False, labeldistance=None)\n",
    "plt.title('Proportions of Members Gender', color='red');\n",
    "plt.legend();"
   ]
  },
  {
   "cell_type": "markdown",
   "metadata": {},
   "source": [
    "> Almost 75% of trip takers are males"
   ]
  },
  {
   "cell_type": "code",
   "execution_count": 49,
   "metadata": {},
   "outputs": [
    {
     "data": {
      "image/png": "[encoded data removed]",
      "text/plain": [
       "<Figure size 1152x360 with 1 Axes>"
      ]
     },
     "metadata": {
      "needs_background": "light"
     },
     "output_type": "display_data"
    }
   ],
   "source": [
    "# plotting for User Birth Year\n",
    "plt.figure(figsize=[16, 5]);\n",
    "\n",
    "sb.countplot(data = bikeshare_clean, x='member_birth_year', color=sb.color_palette()[0]);\n",
    "plt.xticks(rotation=90);\n",
    "plt.xlabel('Member Birth Year', labelpad=10, color='Blue')\n",
    "plt.ylabel('Count', labelpad=10, color='Blue')\n",
    "plt.title('Member Birth Year Count', color='red');"
   ]
  },
  {
   "cell_type": "code",
   "execution_count": 50,
   "metadata": {},
   "outputs": [
    {
     "data": {
      "image/png": "[encoded data removed]",
      "text/plain": [
       "<Figure size 576x360 with 1 Axes>"
      ]
     },
     "metadata": {
      "needs_background": "light"
     },
     "output_type": "display_data"
    }
   ],
   "source": [
    "# plotting for User Birth Year, binned by age groups\n",
    "plt.figure(figsize=[8, 5]);\n",
    "bins=np.arange(1930, bikeshare_clean['member_birth_year'].max()+5, 5)\n",
    "\n",
    "plt.hist(data = bikeshare_clean, x='member_birth_year', bins=bins);\n",
    "plt.xticks(bins, rotation=90);\n",
    "plt.xlabel('Member Birth Year', labelpad=10, color='Blue')\n",
    "plt.ylabel('Count', labelpad=10, color='Blue')\n",
    "plt.title('Member Birth Year Histogram', color='red');"
   ]
  },
  {
   "cell_type": "code",
   "execution_count": 51,
   "metadata": {},
   "outputs": [
    {
     "data": {
      "text/plain": [
       "77"
      ]
     },
     "execution_count": 51,
     "metadata": {},
     "output_type": "execute_result"
    }
   ],
   "source": [
    "# selecting outliers, using criteria eyeballed from the plots\n",
    "outliers = (bikeshare_clean['member_birth_year'] < 1930)\n",
    "outliers.sum()"
   ]
  },
  {
   "cell_type": "code",
   "execution_count": 52,
   "metadata": {},
   "outputs": [
    {
     "data": {
      "text/html": [
       "<div>\n",
       "<style scoped>\n",
       "    .dataframe tbody tr th:only-of-type {\n",
       "        vertical-align: middle;\n",
       "    }\n",
       "\n",
       "    .dataframe tbody tr th {\n",
       "        vertical-align: top;\n",
       "    }\n",
       "\n",
       "    .dataframe thead th {\n",
       "        text-align: right;\n",
       "    }\n",
       "</style>\n",
       "<table border=\"1\" class=\"dataframe\">\n",
       "  <thead>\n",
       "    <tr style=\"text-align: right;\">\n",
       "      <th></th>\n",
       "      <th>duration_sec</th>\n",
       "      <th>start_time</th>\n",
       "      <th>end_time</th>\n",
       "      <th>start_station_id</th>\n",
       "      <th>end_station_id</th>\n",
       "      <th>bike_id</th>\n",
       "      <th>user_type</th>\n",
       "      <th>member_birth_year</th>\n",
       "      <th>member_gender</th>\n",
       "      <th>weekday</th>\n",
       "      <th>hour</th>\n",
       "    </tr>\n",
       "  </thead>\n",
       "  <tbody>\n",
       "    <tr>\n",
       "      <th>1238</th>\n",
       "      <td>148</td>\n",
       "      <td>2019-02-28 19:29:17.627</td>\n",
       "      <td>2019-02-28 19:31:45.967</td>\n",
       "      <td>158</td>\n",
       "      <td>173</td>\n",
       "      <td>5391</td>\n",
       "      <td>Subscriber</td>\n",
       "      <td>1900</td>\n",
       "      <td>Male</td>\n",
       "      <td>Thursday</td>\n",
       "      <td>19</td>\n",
       "    </tr>\n",
       "    <tr>\n",
       "      <th>10407</th>\n",
       "      <td>1315</td>\n",
       "      <td>2019-02-27 19:21:34.436</td>\n",
       "      <td>2019-02-27 19:43:30.008</td>\n",
       "      <td>343</td>\n",
       "      <td>375</td>\n",
       "      <td>6249</td>\n",
       "      <td>Subscriber</td>\n",
       "      <td>1900</td>\n",
       "      <td>Male</td>\n",
       "      <td>Wednesday</td>\n",
       "      <td>19</td>\n",
       "    </tr>\n",
       "    <tr>\n",
       "      <th>15483</th>\n",
       "      <td>1131</td>\n",
       "      <td>2019-02-27 08:37:36.864</td>\n",
       "      <td>2019-02-27 08:56:28.022</td>\n",
       "      <td>375</td>\n",
       "      <td>36</td>\n",
       "      <td>4968</td>\n",
       "      <td>Subscriber</td>\n",
       "      <td>1900</td>\n",
       "      <td>Male</td>\n",
       "      <td>Wednesday</td>\n",
       "      <td>8</td>\n",
       "    </tr>\n",
       "    <tr>\n",
       "      <th>17320</th>\n",
       "      <td>366</td>\n",
       "      <td>2019-02-26 19:53:38.528</td>\n",
       "      <td>2019-02-26 19:59:44.968</td>\n",
       "      <td>50</td>\n",
       "      <td>21</td>\n",
       "      <td>5226</td>\n",
       "      <td>Subscriber</td>\n",
       "      <td>1920</td>\n",
       "      <td>Male</td>\n",
       "      <td>Tuesday</td>\n",
       "      <td>19</td>\n",
       "    </tr>\n",
       "    <tr>\n",
       "      <th>18197</th>\n",
       "      <td>432</td>\n",
       "      <td>2019-02-26 17:48:59.016</td>\n",
       "      <td>2019-02-26 17:56:11.370</td>\n",
       "      <td>21</td>\n",
       "      <td>50</td>\n",
       "      <td>5319</td>\n",
       "      <td>Subscriber</td>\n",
       "      <td>1920</td>\n",
       "      <td>Male</td>\n",
       "      <td>Tuesday</td>\n",
       "      <td>17</td>\n",
       "    </tr>\n",
       "    <tr>\n",
       "      <th>...</th>\n",
       "      <td>...</td>\n",
       "      <td>...</td>\n",
       "      <td>...</td>\n",
       "      <td>...</td>\n",
       "      <td>...</td>\n",
       "      <td>...</td>\n",
       "      <td>...</td>\n",
       "      <td>...</td>\n",
       "      <td>...</td>\n",
       "      <td>...</td>\n",
       "      <td>...</td>\n",
       "    </tr>\n",
       "    <tr>\n",
       "      <th>165796</th>\n",
       "      <td>993</td>\n",
       "      <td>2019-02-03 09:45:30.464</td>\n",
       "      <td>2019-02-03 10:02:04.169</td>\n",
       "      <td>375</td>\n",
       "      <td>36</td>\n",
       "      <td>5445</td>\n",
       "      <td>Subscriber</td>\n",
       "      <td>1900</td>\n",
       "      <td>Male</td>\n",
       "      <td>Sunday</td>\n",
       "      <td>9</td>\n",
       "    </tr>\n",
       "    <tr>\n",
       "      <th>169534</th>\n",
       "      <td>1527</td>\n",
       "      <td>2019-02-01 19:09:28.387</td>\n",
       "      <td>2019-02-01 19:34:55.963</td>\n",
       "      <td>343</td>\n",
       "      <td>375</td>\n",
       "      <td>5286</td>\n",
       "      <td>Subscriber</td>\n",
       "      <td>1900</td>\n",
       "      <td>Male</td>\n",
       "      <td>Friday</td>\n",
       "      <td>19</td>\n",
       "    </tr>\n",
       "    <tr>\n",
       "      <th>169703</th>\n",
       "      <td>517</td>\n",
       "      <td>2019-02-01 18:38:40.471</td>\n",
       "      <td>2019-02-01 18:47:18.392</td>\n",
       "      <td>25</td>\n",
       "      <td>30</td>\n",
       "      <td>2175</td>\n",
       "      <td>Subscriber</td>\n",
       "      <td>1902</td>\n",
       "      <td>Female</td>\n",
       "      <td>Friday</td>\n",
       "      <td>18</td>\n",
       "    </tr>\n",
       "    <tr>\n",
       "      <th>174402</th>\n",
       "      <td>428</td>\n",
       "      <td>2019-02-01 07:45:05.934</td>\n",
       "      <td>2019-02-01 07:52:14.922</td>\n",
       "      <td>284</td>\n",
       "      <td>67</td>\n",
       "      <td>5031</td>\n",
       "      <td>Subscriber</td>\n",
       "      <td>1901</td>\n",
       "      <td>Male</td>\n",
       "      <td>Friday</td>\n",
       "      <td>7</td>\n",
       "    </tr>\n",
       "    <tr>\n",
       "      <th>174929</th>\n",
       "      <td>490</td>\n",
       "      <td>2019-02-01 00:39:53.112</td>\n",
       "      <td>2019-02-01 00:48:03.338</td>\n",
       "      <td>61</td>\n",
       "      <td>81</td>\n",
       "      <td>5411</td>\n",
       "      <td>Subscriber</td>\n",
       "      <td>1927</td>\n",
       "      <td>Male</td>\n",
       "      <td>Friday</td>\n",
       "      <td>0</td>\n",
       "    </tr>\n",
       "  </tbody>\n",
       "</table>\n",
       "<p>77 rows × 11 columns</p>\n",
       "</div>"
      ],
      "text/plain": [
       "        duration_sec              start_time                end_time  \\\n",
       "1238             148 2019-02-28 19:29:17.627 2019-02-28 19:31:45.967   \n",
       "10407           1315 2019-02-27 19:21:34.436 2019-02-27 19:43:30.008   \n",
       "15483           1131 2019-02-27 08:37:36.864 2019-02-27 08:56:28.022   \n",
       "17320            366 2019-02-26 19:53:38.528 2019-02-26 19:59:44.968   \n",
       "18197            432 2019-02-26 17:48:59.016 2019-02-26 17:56:11.370   \n",
       "...              ...                     ...                     ...   \n",
       "165796           993 2019-02-03 09:45:30.464 2019-02-03 10:02:04.169   \n",
       "169534          1527 2019-02-01 19:09:28.387 2019-02-01 19:34:55.963   \n",
       "169703           517 2019-02-01 18:38:40.471 2019-02-01 18:47:18.392   \n",
       "174402           428 2019-02-01 07:45:05.934 2019-02-01 07:52:14.922   \n",
       "174929           490 2019-02-01 00:39:53.112 2019-02-01 00:48:03.338   \n",
       "\n",
       "        start_station_id  end_station_id  bike_id   user_type  \\\n",
       "1238                 158             173     5391  Subscriber   \n",
       "10407                343             375     6249  Subscriber   \n",
       "15483                375              36     4968  Subscriber   \n",
       "17320                 50              21     5226  Subscriber   \n",
       "18197                 21              50     5319  Subscriber   \n",
       "...                  ...             ...      ...         ...   \n",
       "165796               375              36     5445  Subscriber   \n",
       "169534               343             375     5286  Subscriber   \n",
       "169703                25              30     2175  Subscriber   \n",
       "174402               284              67     5031  Subscriber   \n",
       "174929                61              81     5411  Subscriber   \n",
       "\n",
       "        member_birth_year member_gender    weekday  hour  \n",
       "1238                 1900          Male   Thursday    19  \n",
       "10407                1900          Male  Wednesday    19  \n",
       "15483                1900          Male  Wednesday     8  \n",
       "17320                1920          Male    Tuesday    19  \n",
       "18197                1920          Male    Tuesday    17  \n",
       "...                   ...           ...        ...   ...  \n",
       "165796               1900          Male     Sunday     9  \n",
       "169534               1900          Male     Friday    19  \n",
       "169703               1902        Female     Friday    18  \n",
       "174402               1901          Male     Friday     7  \n",
       "174929               1927          Male     Friday     0  \n",
       "\n",
       "[77 rows x 11 columns]"
      ]
     },
     "execution_count": 52,
     "metadata": {},
     "output_type": "execute_result"
    }
   ],
   "source": [
    "bikeshare_clean.loc[outliers,:]"
   ]
  },
  {
   "cell_type": "markdown",
   "metadata": {},
   "source": [
    "> There is no way to tell whether this data is accurate or not, and it would not affect our findings, so we will just limit the plot view"
   ]
  },
  {
   "cell_type": "markdown",
   "metadata": {},
   "source": [
    "> Most trips are taken by people in their late twenties and early therties (birth year 1988-1994)"
   ]
  },
  {
   "cell_type": "markdown",
   "metadata": {},
   "source": [
    "### The distributions of variables of interest\n",
    "\n",
    "- **Trip Duration** has a long-tailed distribution, with a lot of rides on the low duration end, and few on the high end. When plotted on a log-scale, the duration distribution is normal, with most trips having duration around 500 seconds\n",
    "<br><br>\n",
    "- **Trip Date** distributions show that lower trip count was observed on weekends and higher trip counts were happening during weekdays with Thursday being the highest. Weekend engagement is almost 50% of that of an average weekday.\n",
    "- On another hand, trip distribution along the day is bimodal with one peak at 8:00 AM and another at 05:00 PM, and the lowest number of trips are taken after midnight\n",
    "<br><br>\n",
    "- **User Data** distributions show that 90% of rides were taken by subscribers, 75% of riders are males, and that most trips are taken by people in their late twenties and early therties (birth year 1988-1994)\n",
    "\n",
    "### Unusual Distributions and Data Outliers\n",
    "\n",
    "- **Trip Duration:** The initial plot of the duration shows that most of the data is set to the far left of the axis, suggesting some strong outliers on the right, as seen from the descriptive summary and the plot. Checking the calculation of trip duration against the start and end trip time showed no errors in trip duration calculation.\n",
    "<br><br>\n",
    "- **User Birth Year** showed some value outliers, specially years older that 1940. There is no way to tell whether this data is accurate or not, and it would not affect our findings."
   ]
  },
  {
   "cell_type": "markdown",
   "metadata": {},
   "source": [
    "## Bivariate Exploration"
   ]
  },
  {
   "cell_type": "markdown",
   "metadata": {},
   "source": [
    "### Duration VS. Trip Date\n",
    "First, I want to see the relation between the trip duration and the time of the trip"
   ]
  },
  {
   "cell_type": "code",
   "execution_count": 53,
   "metadata": {},
   "outputs": [
    {
     "data": {
      "image/png": "[encoded data removed]",
      "text/plain": [
       "<Figure size 1152x360 with 2 Axes>"
      ]
     },
     "metadata": {
      "needs_background": "light"
     },
     "output_type": "display_data"
    }
   ],
   "source": [
    "# bivariate plot of duration, mean duration vs. weekday\n",
    "fig, ax = plt.subplots(ncols=2, figsize = [16,5])\n",
    "\n",
    "sb.boxplot(data=bikeshare_clean, x='weekday', y='duration_sec', color=sb.color_palette()[0], ax=ax[0])\n",
    "ax[0].set_ylim(0, 2500);\n",
    "ax[0].set_xlabel('Weekday', labelpad=10, color='Blue')\n",
    "ax[0].set_ylabel('Duration, Seconds', labelpad=10, color='Blue')\n",
    "ax[0].set_title('Trip Duration over the Week', color='red');\n",
    "\n",
    "sb.barplot(data=bikeshare_clean, x='weekday', y='duration_sec', color=sb.color_palette()[0], ax=ax[1])\n",
    "ax[1].set_xlabel('Weekday', labelpad=10, color='Blue')\n",
    "ax[1].set_ylabel('Mean Duration, Seconds', labelpad=10, color='Blue')\n",
    "ax[1].set_title('Average Trip Duration over the Week', color='red');"
   ]
  },
  {
   "cell_type": "code",
   "execution_count": 54,
   "metadata": {},
   "outputs": [
    {
     "data": {
      "image/png": "[encoded data removed]",
      "text/plain": [
       "<Figure size 1152x720 with 2 Axes>"
      ]
     },
     "metadata": {
      "needs_background": "light"
     },
     "output_type": "display_data"
    }
   ],
   "source": [
    "# bivariate plot of duration, mean duration vs. hour\n",
    "fig, ax = plt.subplots(nrows=2, figsize = [16,10])\n",
    "\n",
    "sb.boxplot(data=bikeshare_clean, x='hour', y='duration_sec', color=sb.color_palette()[0], ax=ax[0])\n",
    "ax[0].set_ylim(0, 2500);\n",
    "ax[0].set_xlabel('')\n",
    "ax[0].set_ylabel('Duration, Seconds', labelpad=10, color='Blue')\n",
    "ax[0].set_title('Trip Duration over the Day', color='red');\n",
    "\n",
    "sb.barplot(data=bikeshare_clean, x='hour', y='duration_sec', color=sb.color_palette()[0], ax=ax[1])\n",
    "ax[1].set_xlabel('Hour', labelpad=10, color='Blue')\n",
    "ax[1].set_ylabel('Mean Duration, Seconds', labelpad=10, color='Blue')\n",
    "ax[1].set_title('Average Trip Duration over the Day', color='red');"
   ]
  },
  {
   "cell_type": "markdown",
   "metadata": {},
   "source": [
    "> An interesting observation is made here is that the average trip duration actually increases on weekend and at late hours after midnight. These are the same times that were previously observed to have the lowest number of rides."
   ]
  },
  {
   "cell_type": "markdown",
   "metadata": {},
   "source": [
    "### Duration VS. User Data\n",
    "Now lets see if the user data has any relation with the trip duration"
   ]
  },
  {
   "cell_type": "code",
   "execution_count": 55,
   "metadata": {},
   "outputs": [
    {
     "data": {
      "image/png": "[encoded data removed]",
      "text/plain": [
       "<Figure size 576x576 with 4 Axes>"
      ]
     },
     "metadata": {
      "needs_background": "light"
     },
     "output_type": "display_data"
    }
   ],
   "source": [
    "# bivariate plots of duration, mean duration vs. user_type, member_gender\n",
    "fig, ax = plt.subplots(ncols=2, nrows=2, figsize = [8,8], sharey='row')\n",
    "\n",
    "sb.boxplot(data=bikeshare_clean, x='user_type', y='duration_sec', color=sb.color_palette()[0], ax=ax[0,0]).set(xlabel=\"\")\n",
    "sb.boxplot(data=bikeshare_clean, x='member_gender', y='duration_sec', color=sb.color_palette()[0], ax=ax[0,1]).set(ylabel=\"\",xlabel=\"\")\n",
    "sb.barplot(data=bikeshare_clean, x='user_type', y='duration_sec', color=sb.color_palette()[0], ax=ax[1,0])\n",
    "sb.barplot(data=bikeshare_clean, x='member_gender', y='duration_sec', color=sb.color_palette()[0], ax=ax[1,1]).set(ylabel=\"\")\n",
    "\n",
    "ax[0,0].set_ylim(0, 2500);\n",
    "ax[0,0].set_ylabel('Duration, Seconds', labelpad=10, color='Blue')\n",
    "ax[1,0].set_xlabel('User Type', labelpad=10, color='Blue')\n",
    "ax[1,0].set_ylabel('Mean Duration, Seconds', labelpad=10, color='Blue')\n",
    "ax[1,1].set_xlabel('User Gender', labelpad=10, color='Blue');"
   ]
  },
  {
   "cell_type": "markdown",
   "metadata": {},
   "source": [
    "> - The mean ride duration is higher for females than males\n",
    "> - Customers tend to take longer rides than Subscribers"
   ]
  },
  {
   "cell_type": "markdown",
   "metadata": {},
   "source": [
    "### Relationships between features of interest and other features in the dataset\n",
    "\n",
    "- An interesting observation is made here is that the average trip duration actually increases on weekend and at late hours after midnight. These are the same times that were previously observed to have the lowest number of rides.\n",
    "- The mean ride duration is higher for females than males\n",
    "- Customers tend to take longer rides than Subscribers\n",
    "\n",
    "### Relationships between  other features\n",
    "\n",
    "- There is a huge drop in subscribers rides in the weekend"
   ]
  },
  {
   "cell_type": "markdown",
   "metadata": {},
   "source": [
    "## Multivariate Exploration"
   ]
  },
  {
   "cell_type": "markdown",
   "metadata": {},
   "source": [
    "### Trip Time VS. User Data"
   ]
  },
  {
   "cell_type": "code",
   "execution_count": 56,
   "metadata": {},
   "outputs": [
    {
     "data": {
      "image/png": "[encoded data removed]",
      "text/plain": [
       "<Figure size 1080x360 with 2 Axes>"
      ]
     },
     "metadata": {
      "needs_background": "light"
     },
     "output_type": "display_data"
    }
   ],
   "source": [
    "# plotting for User Gender\n",
    "plt.figure(figsize=[15, 5]);\n",
    "\n",
    "plt.subplot(1,2,1)\n",
    "sb.countplot(data = bikeshare_clean, x='member_gender', hue='weekday', palette='Blues');\n",
    "plt.xlabel('User Gender', labelpad=10, color='Blue')\n",
    "plt.ylabel('Count', labelpad=10, color='Blue')\n",
    "plt.title('Trip Counts over the Week By Gender', color='red');\n",
    "\n",
    "plt.subplot(1,2,2)\n",
    "sb.barplot(data = bikeshare_clean, x='member_gender', y='duration_sec', hue='weekday', palette='Blues');\n",
    "plt.xlabel('User Gender', labelpad=10, color='Blue')\n",
    "plt.ylabel('Mean Duration, Second', labelpad=10, color='Blue')\n",
    "plt.title('Average Trip Duration over the Week By Gender', color='red');\n",
    "plt.legend();"
   ]
  },
  {
   "cell_type": "code",
   "execution_count": 57,
   "metadata": {},
   "outputs": [
    {
     "data": {
      "image/png": "[encoded data removed]",
      "text/plain": [
       "<Figure size 576x432 with 1 Axes>"
      ]
     },
     "metadata": {
      "needs_background": "light"
     },
     "output_type": "display_data"
    }
   ],
   "source": [
    "plt.figure(figsize = [8,6])\n",
    "sb.pointplot(data = bikeshare_clean, x = 'weekday', y = 'duration_sec', hue = 'user_type', palette = 'Blues',\n",
    "             linestyles = '', dodge = 0.4, join=True);"
   ]
  },
  {
   "cell_type": "code",
   "execution_count": 58,
   "metadata": {},
   "outputs": [
    {
     "data": {
      "image/png": "[encoded data removed]",
      "text/plain": [
       "<Figure size 576x432 with 1 Axes>"
      ]
     },
     "metadata": {
      "needs_background": "light"
     },
     "output_type": "display_data"
    }
   ],
   "source": [
    "plt.figure(figsize = [8,6])\n",
    "sb.pointplot(data = bikeshare_clean, x = 'weekday', y = 'duration_sec', hue = 'member_gender', palette = 'Blues',\n",
    "             linestyles = '', dodge = 0.4, join=True);"
   ]
  },
  {
   "cell_type": "markdown",
   "metadata": {},
   "source": [
    "> It is very clear now that customers make longer trips than subscribers."
   ]
  },
  {
   "cell_type": "markdown",
   "metadata": {},
   "source": [
    "### Talk about some of the relationships you observed in this part of the investigation. Were there features that strengthened each other in terms of looking at your feature(s) of interest?\n",
    "\n",
    "- Extending the exploration of the main feature of interest (trip duration) showed strong correlation to the user type and the ride time"
   ]
  },
  {
   "cell_type": "markdown",
   "metadata": {},
   "source": [
    "## Findings Summary\n",
    "The following findings can be fairly made from the exploration detailed above;\n",
    "\n",
    "#### Average bike ride duration is less than 10 mins\n",
    "As observed, the ride duration has a long-tailed distribution, with a lot of rides on the low duration end, and few on the high end. When plotted on a log-scale, the duration distribution is normal, with most trips having duration around 500 seconds\n",
    "\n",
    "#### Most rides are taken during weekdays\n",
    "Trip Date distributions show that lower trip count was observed on weekends and higher trip counts were happening during weekdays with Thursday being the highest. Weekend engagement is almost 50% of that of an average weekday.\n",
    "\n",
    "#### Bike-sharing also has rush hours\n",
    "On another hand, trip distribution along the day is bimodal with one peak at **8:00 AM** and another at **05:00 PM**\n",
    "\n",
    "#### Bike riders are mostly young males, but strong rides aren't\n",
    "As observed, 75% of riders are males, and that most trips are taken by people in their late twenties and early therties (birth year 1988-1994). However, longer trips are made by females and other genders than males."
   ]
  }
 ],
 "metadata": {
  "kernelspec": {
   "display_name": "Python 3",
   "language": "python",
   "name": "python3"
  },
  "language_info": {
   "codemirror_mode": {
    "name": "ipython",
    "version": 3
   },
   "file_extension": ".py",
   "mimetype": "text/x-python",
   "name": "python",
   "nbconvert_exporter": "python",
   "pygments_lexer": "ipython3",
   "version": "3.8.5"
  }
 },
 "nbformat": 4,
 "nbformat_minor": 2
}
